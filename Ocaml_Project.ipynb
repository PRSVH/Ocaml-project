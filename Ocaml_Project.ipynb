{
 "cells": [
  {
   "cell_type": "markdown",
   "metadata": {},
   "source": [
    "# Project\n"
   ]
  },
  {
   "cell_type": "markdown",
   "metadata": {},
   "source": [
    "## 2 Ensembles\n",
    "### Question 1\n",
    "#### Using the type 'a ensemble\n"
   ]
  },
  {
   "cell_type": "code",
   "execution_count": 3,
   "metadata": {
    "vscode": {
     "languageId": "ocaml"
    }
   },
   "outputs": [
    {
     "data": {
      "text/plain": [
       "type 'a ensemble = Ve | Ce of 'a * 'a ensemble\n"
      ]
     },
     "execution_count": 3,
     "metadata": {},
     "output_type": "execute_result"
    },
    {
     "data": {
      "text/plain": [
       "val my_ensemble1 : int ensemble = Ce (2, Ce (3, Ce (4, Ce (5, Ve))))\n"
      ]
     },
     "execution_count": 3,
     "metadata": {},
     "output_type": "execute_result"
    },
    {
     "data": {
      "text/plain": [
       "val my_ensemble2 : char ensemble =\n",
       "  Ce ('p', Ce ('a', Ce ('c', Ce ('r', Ce ('t', Ve)))))\n"
      ]
     },
     "execution_count": 3,
     "metadata": {},
     "output_type": "execute_result"
    },
    {
     "data": {
      "text/plain": [
       "val my_ensemble3 : float ensemble =\n",
       "  Ce (2.6, Ce (6.3, Ce (42., Ce (51.3, Ve))))\n"
      ]
     },
     "execution_count": 3,
     "metadata": {},
     "output_type": "execute_result"
    },
    {
     "data": {
      "text/plain": [
       "val cardinale : 'a ensemble -> int = <fun>\n"
      ]
     },
     "execution_count": 3,
     "metadata": {},
     "output_type": "execute_result"
    },
    {
     "data": {
      "text/plain": [
       "- : unit = ()\n"
      ]
     },
     "execution_count": 3,
     "metadata": {},
     "output_type": "execute_result"
    },
    {
     "data": {
      "text/plain": [
       "- : unit = ()\n"
      ]
     },
     "execution_count": 3,
     "metadata": {},
     "output_type": "execute_result"
    },
    {
     "data": {
      "text/plain": [
       "- : unit = ()\n"
      ]
     },
     "execution_count": 3,
     "metadata": {},
     "output_type": "execute_result"
    }
   ],
   "source": [
    "type 'a ensemble=(* ’a est le réservoir d’éléments *)\n",
    "| Ve(* V mis pour ”vide”, e pour ”ensemble” *)\n",
    "| Ce  of 'a  *  'a ensemble (* C mis pour ”constructeur” *);;\n",
    "\n",
    "let my_ensemble1 = Ce (2,Ce(3,Ce(4,Ce(5,Ve))));;\n",
    "let my_ensemble2 = Ce('p',Ce ('a',Ce('c',Ce('r',Ce('t',Ve)))));;\n",
    "let my_ensemble3 = Ce (2.6,Ce(6.3,Ce(42.,Ce(51.3,Ve))));;\n",
    "(* \n",
    "|SPECIFICATION\n",
    "| cardinale : \n",
    "| -Profil : cardinale : 'a ensemble -> int\n",
    "| -Semantics: cardinale(ens) is the number of elements in ens.\n",
    "| -Example : (a) cardinale (Ce (2,Ce(3,Ce(4,Ce(5,Ve))))) -> 4\n",
    "|            (b) cardinale (Ce('p',Ce ('a',Ce('c',Ce('r',Ce('t',Ve)))))) -> 5\n",
    "|            (c) cardinale (Ce (2.6,Ce(6.3,Ce(51.3,Ve))))) -> 3\n",
    "|REALISATION\n",
    "| -Implementation: *)\n",
    "let rec cardinale (e: 'a ensemble):int=\n",
    " match e with \n",
    " | Ve -> 0\n",
    " | Ce (_,eprime)-> 1+ cardinale eprime;;\n",
    " \n",
    "assert(cardinale my_ensemble1=4);;\n",
    "assert(cardinale my_ensemble2=5);;\n",
    "assert(cardinale my_ensemble3=4);;"
   ]
  },
  {
   "cell_type": "code",
   "execution_count": 4,
   "metadata": {
    "vscode": {
     "languageId": "ocaml"
    }
   },
   "outputs": [
    {
     "data": {
      "text/plain": [
       "val appartient : 'a -> 'a ensemble -> bool = <fun>\n"
      ]
     },
     "execution_count": 4,
     "metadata": {},
     "output_type": "execute_result"
    },
    {
     "data": {
      "text/plain": [
       "- : unit = ()\n"
      ]
     },
     "execution_count": 4,
     "metadata": {},
     "output_type": "execute_result"
    },
    {
     "data": {
      "text/plain": [
       "- : unit = ()\n"
      ]
     },
     "execution_count": 4,
     "metadata": {},
     "output_type": "execute_result"
    },
    {
     "data": {
      "text/plain": [
       "- : unit = ()\n"
      ]
     },
     "execution_count": 4,
     "metadata": {},
     "output_type": "execute_result"
    }
   ],
   "source": [
    "(* \n",
    "|SPECIFICATION\n",
    "| appartient\n",
    "| -Profil : appartient : 'a -> 'a ensemble -> bool\n",
    "| -Semantics: (appartient elt ens) is true if and only if 𝑒𝑙𝑡 ∈ 𝑒𝑛𝑠.\n",
    "| -Example : (a) appartient 4 (Ce (2,Ce(3,Ce(4,Ce(5,Ve))))) -> true\n",
    "|            (b) appartient 'e' (Ce('p',Ce ('a',Ce('c',Ce('r',Ce('t',Ve)))))) -> false\n",
    "|            (c) appartient 2.6 (Ce (2.6,Ce(6.3,Ce(51.3,Ve))))) -> true\n",
    "|REALISATION\n",
    "| -Implementation: *)\n",
    "let rec appartient (c:'a) (e: 'a ensemble):bool=\n",
    " match e with \n",
    " | Ve -> false\n",
    " | Ce(x,eprime) -> if x = c then true else appartient c eprime;;\n",
    "\n",
    "assert(appartient 1 my_ensemble1=false);;\n",
    "assert(appartient 'r' my_ensemble2=true);;\n",
    "assert(appartient 1.5 my_ensemble3=false);;"
   ]
  },
  {
   "cell_type": "code",
   "execution_count": 5,
   "metadata": {
    "vscode": {
     "languageId": "ocaml"
    }
   },
   "outputs": [
    {
     "data": {
      "text/plain": [
       "val inclus : 'a ensemble -> 'a ensemble -> bool = <fun>\n"
      ]
     },
     "execution_count": 5,
     "metadata": {},
     "output_type": "execute_result"
    },
    {
     "data": {
      "text/plain": [
       "val inclus_test2 : int ensemble = Ce (3, Ce (2, Ce (5, Ve)))\n"
      ]
     },
     "execution_count": 5,
     "metadata": {},
     "output_type": "execute_result"
    },
    {
     "data": {
      "text/plain": [
       "val inclus_test1 : char ensemble = Ce ('a', Ce ('b', Ce ('e', Ve)))\n"
      ]
     },
     "execution_count": 5,
     "metadata": {},
     "output_type": "execute_result"
    },
    {
     "data": {
      "text/plain": [
       "val inclus_test3 : float ensemble = Ce (3.1, Ce (2.4, Ce (7.5, Ve)))\n"
      ]
     },
     "execution_count": 5,
     "metadata": {},
     "output_type": "execute_result"
    },
    {
     "data": {
      "text/plain": [
       "- : unit = ()\n"
      ]
     },
     "execution_count": 5,
     "metadata": {},
     "output_type": "execute_result"
    },
    {
     "data": {
      "text/plain": [
       "- : unit = ()\n"
      ]
     },
     "execution_count": 5,
     "metadata": {},
     "output_type": "execute_result"
    },
    {
     "data": {
      "text/plain": [
       "- : unit = ()\n"
      ]
     },
     "execution_count": 5,
     "metadata": {},
     "output_type": "execute_result"
    }
   ],
   "source": [
    "(* \n",
    "|SPECIFICATION\n",
    "| inclus\n",
    "| -Profil : inclus : 'a ensemble -> 'a ensemble -> bool\n",
    "| -Semantics: (𝑖𝑛𝑐𝑙𝑢𝑠𝑒 𝑒𝑛𝑠1 𝑒𝑛𝑠2)is true if and only if 𝑒𝑛𝑠1⊂𝑒𝑛𝑠2\n",
    "| -Example : (a) inclus (Ce (1,Ce(2,Ce(3,Ve)))) (Ce (3,Ce(2,Ce(1,Ce(5,Ve))))) -> true\n",
    "|            (b) inclus (Ce (1,Ce(6,Ce(3,Ve)))) (Ce (3,Ce(2,Ce(1,Ce(5,Ve))))) -> false\n",
    "|            (c) inclus (Ce ('a',Ce('b',Ce('e',Ve)))) (Ce ('e',Ce('r',Ce('i',Ve)))) -> false\n",
    "|REALISATION\n",
    "| -Implementation: *)\n",
    "let rec inclus (e1: 'a ensemble) (e2: 'a ensemble): bool=\n",
    "    match e1,e2 with \n",
    "    | Ve,Ve -> true\n",
    "    | Ve,Ce(_) -> true\n",
    "    | Ce(a,e1prime), _-> if appartient a e2 then inclus e1prime e2 else false;;\n",
    "\n",
    "\n",
    "let inclus_test2 = Ce (3,Ce(2,Ce(5,Ve)));;\n",
    "let inclus_test1 = Ce ('a',Ce('b',Ce('e',Ve)));;\n",
    "let inclus_test3 = Ce (3.1,Ce(2.4,Ce(7.5,Ve)));;\n",
    "assert(inclus inclus_test1 my_ensemble2 = false);;\n",
    "assert(inclus inclus_test2 my_ensemble1 = true);;\n",
    "assert(inclus inclus_test3 my_ensemble3 = false);;\n"
   ]
  },
  {
   "cell_type": "code",
   "execution_count": 6,
   "metadata": {
    "vscode": {
     "languageId": "ocaml"
    }
   },
   "outputs": [
    {
     "data": {
      "text/plain": [
       "val ajout : 'a -> 'a ensemble -> 'a ensemble = <fun>\n"
      ]
     },
     "execution_count": 6,
     "metadata": {},
     "output_type": "execute_result"
    },
    {
     "data": {
      "text/plain": [
       "- : unit = ()\n"
      ]
     },
     "execution_count": 6,
     "metadata": {},
     "output_type": "execute_result"
    },
    {
     "data": {
      "text/plain": [
       "- : unit = ()\n"
      ]
     },
     "execution_count": 6,
     "metadata": {},
     "output_type": "execute_result"
    },
    {
     "data": {
      "text/plain": [
       "- : unit = ()\n"
      ]
     },
     "execution_count": 6,
     "metadata": {},
     "output_type": "execute_result"
    }
   ],
   "source": [
    "(* \n",
    "|SPECIFICATION\n",
    "| ajout\n",
    "| -Profil : ajout : 'a -> 'a ensemble -> 'a ensemble\n",
    "| -Semantics: (𝑎𝑗𝑜𝑢𝑡𝑒 𝑒𝑙𝑡 𝑒𝑛𝑠) is the set obtained by adding the element elt to the set \n",
    "| ens respecting the constraint of non repetition of the elements.\n",
    "| -Example : (a) ajout 10 (Ce (1,Ce(2,Ce(3,Ve)))) -> Ce (10, Ce (1, Ce (2, Ce (3, Ve))))\n",
    "|            (b) ajout 'r' (Ce('p',Ce ('a',Ce('c',Ce('r',Ce('t',Ve))))))-> Ce ('p', Ce ('a', Ce ('c', Ce ('r', Ce ('t', Ve)))))\n",
    "|            (c) ajout 45 (Ce (3, Ce (2, Ce (1, Ce (5, Ve))))) -> Ce (45, Ce (3, Ce (2, Ce (1, Ce (5, Ve)))))\n",
    "|REALISATION\n",
    "| -Implementation: *)\n",
    "let ajout (el:'a) (e: 'a ensemble) :'a ensemble=\n",
    "if appartient el e then e else Ce(el,e);;\n",
    "\n",
    "assert(ajout 10 my_ensemble1 = Ce (10, Ce (2, Ce (3, Ce (4, Ce (5, Ve))))));;\n",
    "assert(ajout 'r'  my_ensemble2=Ce ('p', Ce ('a', Ce ('c', Ce ('r', Ce ('t', Ve))))));;\n",
    "assert(ajout 45.1 my_ensemble3 = Ce (45.1, Ce (2.6, Ce (6.3, Ce (42., Ce (51.3, Ve))))));;\n",
    "\n"
   ]
  },
  {
   "cell_type": "code",
   "execution_count": 7,
   "metadata": {
    "vscode": {
     "languageId": "ocaml"
    }
   },
   "outputs": [
    {
     "data": {
      "text/plain": [
       "val supprime : 'a -> 'a ensemble -> 'a ensemble = <fun>\n"
      ]
     },
     "execution_count": 7,
     "metadata": {},
     "output_type": "execute_result"
    },
    {
     "data": {
      "text/plain": [
       "- : unit = ()\n"
      ]
     },
     "execution_count": 7,
     "metadata": {},
     "output_type": "execute_result"
    },
    {
     "data": {
      "text/plain": [
       "- : unit = ()\n"
      ]
     },
     "execution_count": 7,
     "metadata": {},
     "output_type": "execute_result"
    },
    {
     "data": {
      "text/plain": [
       "- : unit = ()\n"
      ]
     },
     "execution_count": 7,
     "metadata": {},
     "output_type": "execute_result"
    }
   ],
   "source": [
    "(* \n",
    "|SPECIFICATION\n",
    "| supprime: \n",
    "| -Profil : 'a -> 'a ensemble -> 'a ensemble\n",
    "| -Semantics: (𝑠𝑢𝑝𝑝𝑟𝑖𝑚𝑒 𝑒𝑙𝑡 𝑒𝑛𝑠) removes the elt element from the ens set.\n",
    "| -Example : (a) supprime 'r' (Ce('p',Ce ('a',Ce('c',Ce('r',Ce('t',Ve)))))) ->  Ce ('p', Ce ('a', Ce ('c', Ce ('t', Ve))))\n",
    "|            (b) supprime 2 (Ce (18, Ce (4, Ce (1, Ce (5, Ce (13, Ve))))))->  Ce (18, Ce (4, Ce (1, Ce (5, Ce (13, Ve)))))\n",
    "|            (c) supprime 5 (Ce (3,Ce(2,Ce(1,Ce(5,Ve)))))->  Ce (3, Ce (2, Ce (1, Ve)))\n",
    "|REALISATION\n",
    "| -Implementation: *)\n",
    "let rec supprime(el:'a)(e:'a ensemble):'a ensemble =\n",
    "if appartient el e then\n",
    "        match e with\n",
    "        |Ve -> Ve\n",
    "        |Ce(hd,tail)-> if el=hd then tail else Ce(hd, supprime el tail)\n",
    "else e;;\n",
    "\n",
    "assert(supprime 2 my_ensemble1 = Ce (3, Ce (4, Ce (5, Ve))));;\n",
    "assert(supprime 'r' my_ensemble2 = Ce ('p', Ce ('a', Ce ('c', Ce ('t', Ve)))));;\n",
    "assert(supprime 5.1 my_ensemble3 = Ce (2.6, Ce (6.3, Ce (42., Ce (51.3, Ve)))));;\n"
   ]
  },
  {
   "cell_type": "code",
   "execution_count": 8,
   "metadata": {
    "vscode": {
     "languageId": "ocaml"
    }
   },
   "outputs": [
    {
     "data": {
      "text/plain": [
       "val egaux : 'a ensemble -> 'a ensemble -> bool = <fun>\n"
      ]
     },
     "execution_count": 8,
     "metadata": {},
     "output_type": "execute_result"
    },
    {
     "data": {
      "text/plain": [
       "val test_equal1 : int ensemble = Ce (4, Ce (1, Ce (2, Ce (3, Ve))))\n"
      ]
     },
     "execution_count": 8,
     "metadata": {},
     "output_type": "execute_result"
    },
    {
     "data": {
      "text/plain": [
       "val test_equal2 : int ensemble = Ce (3, Ce (4, Ce (2, Ce (5, Ve))))\n"
      ]
     },
     "execution_count": 8,
     "metadata": {},
     "output_type": "execute_result"
    },
    {
     "data": {
      "text/plain": [
       "val test_equal_float : float ensemble =\n",
       "  Ce (2.6, Ce (6.3, Ce (42., Ce (51.3, Ve))))\n"
      ]
     },
     "execution_count": 8,
     "metadata": {},
     "output_type": "execute_result"
    },
    {
     "data": {
      "text/plain": [
       "- : unit = ()\n"
      ]
     },
     "execution_count": 8,
     "metadata": {},
     "output_type": "execute_result"
    },
    {
     "data": {
      "text/plain": [
       "- : unit = ()\n"
      ]
     },
     "execution_count": 8,
     "metadata": {},
     "output_type": "execute_result"
    },
    {
     "data": {
      "text/plain": [
       "- : unit = ()\n"
      ]
     },
     "execution_count": 8,
     "metadata": {},
     "output_type": "execute_result"
    }
   ],
   "source": [
    "(* \n",
    "|SPECIFICATION\n",
    "| egaux\n",
    "| -Profil : \n",
    "| -Semantics: (𝑒𝑔𝑎𝑢𝑥 𝑒𝑛𝑠1 𝑒𝑛𝑠2) is true if and only if𝑒𝑛𝑠1 and 𝑒𝑛𝑠2 have the same elements\n",
    "| -Example : (a) egaux (Ce(4,Ce (1,Ce(2,Ce(3,Ve))))) (Ce(8,Ce(5,Ce (1,Ce(2,Ce(3,Ve)))))) -> false\n",
    "|            (b) egaux (Ce(8,Ce(5,Ce (1,Ce(2,Ce(3,Ve)))))) (Ce(1,Ce(8,Ce (3,Ce(5,Ce(2,Ve)))))) -> true\n",
    "|            (c) egaux Ce(4,Ce (1,Ce(2,Ce(3,Ve)))) (Ce (3,Ce(2,Ce(1,Ve)))) -> false\n",
    "|REALISATION\n",
    "| -Implementation: *)\n",
    "let egaux (e1: 'a ensemble) (e2: 'a ensemble): bool=\n",
    "inclus e1 e2 && inclus e2 e1;;\n",
    "\n",
    "let test_equal1 = Ce(4,Ce (1,Ce(2,Ce(3,Ve))));;\n",
    "let test_equal2 = Ce (3,Ce(4,Ce(2,Ce(5,Ve))));;\n",
    "let test_equal_float = Ce (2.6,Ce(6.3,Ce(42.,Ce(51.3,Ve))));;\n",
    "assert(egaux test_equal1 my_ensemble1=false);;\n",
    "assert(egaux test_equal2 my_ensemble1 = true);;\n",
    "assert(egaux test_equal_float my_ensemble3 = true);;"
   ]
  },
  {
   "cell_type": "code",
   "execution_count": 9,
   "metadata": {
    "vscode": {
     "languageId": "ocaml"
    }
   },
   "outputs": [
    {
     "data": {
      "text/plain": [
       "val intersection : 'a ensemble -> 'a ensemble -> 'a ensemble = <fun>\n"
      ]
     },
     "execution_count": 9,
     "metadata": {},
     "output_type": "execute_result"
    },
    {
     "data": {
      "text/plain": [
       "val my_ensemble4 : int ensemble = Ce (8, Ce (5, Ce (11, Ce (2, Ce (3, Ve)))))\n"
      ]
     },
     "execution_count": 9,
     "metadata": {},
     "output_type": "execute_result"
    },
    {
     "data": {
      "text/plain": [
       "val test_intersection1 : int ensemble =\n",
       "  Ce (18, Ce (4, Ce (1, Ce (5, Ce (13, Ve)))))\n"
      ]
     },
     "execution_count": 9,
     "metadata": {},
     "output_type": "execute_result"
    },
    {
     "data": {
      "text/plain": [
       "- : unit = ()\n"
      ]
     },
     "execution_count": 9,
     "metadata": {},
     "output_type": "execute_result"
    },
    {
     "data": {
      "text/plain": [
       "val test_intersection2 : char ensemble =\n",
       "  Ce ('e', Ce ('t', Ce ('r', Ce ('v', Ce ('o', Ve)))))\n"
      ]
     },
     "execution_count": 9,
     "metadata": {},
     "output_type": "execute_result"
    },
    {
     "data": {
      "text/plain": [
       "- : unit = ()\n"
      ]
     },
     "execution_count": 9,
     "metadata": {},
     "output_type": "execute_result"
    }
   ],
   "source": [
    "(* \n",
    "|SPECIFICATION\n",
    "| intersection: \n",
    "| -Profil : intersection : 'a ensemble -> 'a ensemble\n",
    "| -Semantics: (𝑖𝑛𝑡𝑒𝑟𝑠𝑒𝑐𝑡𝑖𝑜𝑛 𝑒𝑛𝑠1 𝑒𝑛𝑠2)is the ensemble 𝑒𝑛𝑠1 ∩ 𝑒𝑛𝑠2, that is, the set of elements belonging to both 𝑒𝑛𝑠1 and 𝑒𝑛𝑠2.\n",
    "| -Example : (a) intersection (Ce(18,Ce(4,Ce (1,Ce(5,Ce(13,Ve)))))) (Ce(8,Ce(5,Ce (11,Ce(2,Ce(3,Ve)))))) -> Ce (5, Ve)\n",
    "|REALISATION\n",
    "| -Implementation: *)\n",
    "let rec intersection (e1: 'a ensemble) (e2: 'a ensemble) : 'a ensemble=\n",
    "if inclus e1 e2 then e1 else if inclus e2 e1 then e2 else\n",
    "match e1 with \n",
    "| Ve-> Ve\n",
    "| Ce(a,e1prime)-> if appartient a e2 then Ce(a,intersection e1prime e2) else intersection e1prime e2;;\n",
    "\n",
    "let my_ensemble4 = Ce(8,Ce(5,Ce (11,Ce(2,Ce(3,Ve)))));;\n",
    "let test_intersection1 = Ce(18,Ce(4,Ce (1,Ce(5,Ce(13,Ve)))));;\n",
    "assert(intersection test_intersection1 my_ensemble4 =Ce (5, Ve));;\n",
    "let test_intersection2 = Ce('e',Ce('t',Ce ('r',Ce('v',Ce('o',Ve)))));;\n",
    "assert(intersection test_intersection2 my_ensemble2=Ce ('t', Ce ('r', Ve)));;\n"
   ]
  },
  {
   "cell_type": "code",
   "execution_count": 10,
   "metadata": {
    "vscode": {
     "languageId": "ocaml"
    }
   },
   "outputs": [
    {
     "data": {
      "text/plain": [
       "val union : 'a ensemble -> 'a ensemble -> 'a ensemble = <fun>\n"
      ]
     },
     "execution_count": 10,
     "metadata": {},
     "output_type": "execute_result"
    },
    {
     "data": {
      "text/plain": [
       "val test_union1 : int ensemble = Ce (18, Ce (4, Ce (1, Ce (5, Ce (13, Ve)))))\n"
      ]
     },
     "execution_count": 10,
     "metadata": {},
     "output_type": "execute_result"
    },
    {
     "data": {
      "text/plain": [
       "val test_union2 : char ensemble = Ce ('e', Ce ('p', Ce ('c', Ce ('z', Ve))))\n"
      ]
     },
     "execution_count": 10,
     "metadata": {},
     "output_type": "execute_result"
    },
    {
     "data": {
      "text/plain": [
       "val test : string ensemble = Ce (\"aaa\", Ce (\"bbb\", Ve))\n"
      ]
     },
     "execution_count": 10,
     "metadata": {},
     "output_type": "execute_result"
    },
    {
     "data": {
      "text/plain": [
       "val ensemble5 : string ensemble = Ce (\"aba\", Ce (\"aaa\", Ce (\"bbb\", Ve)))\n"
      ]
     },
     "execution_count": 10,
     "metadata": {},
     "output_type": "execute_result"
    },
    {
     "data": {
      "text/plain": [
       "- : unit = ()\n"
      ]
     },
     "execution_count": 10,
     "metadata": {},
     "output_type": "execute_result"
    },
    {
     "data": {
      "text/plain": [
       "- : unit = ()\n"
      ]
     },
     "execution_count": 10,
     "metadata": {},
     "output_type": "execute_result"
    },
    {
     "data": {
      "text/plain": [
       "- : unit = ()\n"
      ]
     },
     "execution_count": 10,
     "metadata": {},
     "output_type": "execute_result"
    }
   ],
   "source": [
    "(* \n",
    "|SPECIFICATION\n",
    "| union:\n",
    "| -Profil : union : 'a ensemble -> 'a ensemble -> 'a ensemble\n",
    "| -Semantics: (𝑢𝑛𝑖𝑜𝑛 𝑒𝑛𝑠1 𝑒𝑛𝑠2)is the ensemble 𝑒𝑛𝑠1 ∪ 𝑒𝑛𝑠2, i.e. the set of elements belonging to 𝑒𝑛𝑠1 or to 𝑒𝑛𝑠2\n",
    "|REALISATION\n",
    "| -Implementation: *)\n",
    "let rec union (e1: 'a ensemble) (e2: 'a ensemble) : 'a ensemble=\n",
    "if inclus e1 e2 then e2 else if inclus e2 e1 then e1 else \n",
    "match e1 with\n",
    "| Ve-> e2\n",
    "| Ce(a,e1prime)-> if appartient a e2 then union e1prime e2 else Ce(a,union e1prime e2);;\n",
    "\n",
    "let test_union1 = Ce(18,Ce(4,Ce (1,Ce(5,Ce(13,Ve)))));;\n",
    "let test_union2 = Ce('e',Ce ('p',Ce('c',Ce('z',Ve))));;\n",
    "let test = Ce(\"aaa\",Ce(\"bbb\",Ve));;\n",
    "let ensemble5 =  Ce(\"aba\",Ce(\"aaa\",Ce(\"bbb\",Ve)));;\n",
    "assert(union test_union1 my_ensemble1=Ce (18, Ce (1, Ce (13, Ce (2, Ce (3, Ce (4, Ce (5, Ve))))))));;\n",
    "assert(union test_union2 my_ensemble2=Ce ('e', Ce ('z', Ce ('p', Ce ('a', Ce ('c', Ce ('r', Ce ('t', Ve))))))));;\n",
    "assert(union test ensemble5=Ce (\"aba\", Ce (\"aaa\", Ce (\"bbb\", Ve))));;"
   ]
  },
  {
   "cell_type": "code",
   "execution_count": 11,
   "metadata": {
    "scrolled": true,
    "vscode": {
     "languageId": "ocaml"
    }
   },
   "outputs": [
    {
     "data": {
      "text/plain": [
       "val dif : 'a ensemble -> 'a ensemble -> 'a ensemble = <fun>\n"
      ]
     },
     "execution_count": 11,
     "metadata": {},
     "output_type": "execute_result"
    },
    {
     "data": {
      "text/plain": [
       "val test_dif1 : int ensemble = Ce (5, Ce (4, Ce (1, Ce (2, Ce (13, Ve)))))\n"
      ]
     },
     "execution_count": 11,
     "metadata": {},
     "output_type": "execute_result"
    },
    {
     "data": {
      "text/plain": [
       "val test_dif2 : float ensemble = Ce (2.6, Ce (21., Ce (42., Ve)))\n"
      ]
     },
     "execution_count": 11,
     "metadata": {},
     "output_type": "execute_result"
    },
    {
     "data": {
      "text/plain": [
       "- : unit = ()\n"
      ]
     },
     "execution_count": 11,
     "metadata": {},
     "output_type": "execute_result"
    },
    {
     "data": {
      "text/plain": [
       "- : unit = ()\n"
      ]
     },
     "execution_count": 11,
     "metadata": {},
     "output_type": "execute_result"
    }
   ],
   "source": [
    "(* \n",
    "|SPECIFICATION\n",
    "| dif:\n",
    "| -Profil : dif : 'a ensemble -> 'a ensemble -> 'a ensemble\n",
    "| -Semantic: dif e1 e2 returns the given list e1 but without the elements that are also in e2\n",
    "| -Example : (a) dif (Ce(5,Ce(4,Ce (1,Ce(2,Ce(13,Ve)))))) (Ce(8,Ce(5,Ce (11,Ce(2,Ce(3,Ve)))))) = Ce (4, Ce (1, Ce (13, Ve)))\n",
    "|            (b) dif (Ce(5,Ce(4,Ce (1,Ce(2,Ce(13,Ve))))))  (Ce(5,Ce(4,Ce (1,Ce(2,Ce(13,Ve)))))) = Ve\n",
    "|REALISATION\n",
    "| -Implementation: *)\n",
    "let rec dif (e1: 'a ensemble) (e2: 'a ensemble) : 'a ensemble=\n",
    "    match e1 with\n",
    "    | Ve -> Ve\n",
    "    | Ce(a,ep)-> if appartient a e2 then dif ep e2 else Ce(a, dif ep e2);;\n",
    "  \n",
    "let test_dif1 = Ce(5,Ce(4,Ce (1,Ce(2,Ce(13,Ve)))));;\n",
    "let test_dif2 = Ce (2.6,Ce(21.,Ce(42.,Ve)));;\n",
    "assert(dif test_dif1 my_ensemble1 =Ce (1, Ce (13, Ve)));;\n",
    "assert(dif test_dif2 my_ensemble3= Ce (21., Ve));;\n",
    "\n"
   ]
  },
  {
   "cell_type": "code",
   "execution_count": 12,
   "metadata": {
    "vscode": {
     "languageId": "ocaml"
    }
   },
   "outputs": [
    {
     "data": {
      "text/plain": [
       "val difsym : 'a ensemble -> 'a ensemble -> 'a ensemble = <fun>\n"
      ]
     },
     "execution_count": 12,
     "metadata": {},
     "output_type": "execute_result"
    },
    {
     "data": {
      "text/plain": [
       "val test1 : int ensemble = Ce (5, Ce (41, Ce (18, Ce (2, Ce (13, Ve)))))\n"
      ]
     },
     "execution_count": 12,
     "metadata": {},
     "output_type": "execute_result"
    },
    {
     "data": {
      "text/plain": [
       "- : unit = ()\n"
      ]
     },
     "execution_count": 12,
     "metadata": {},
     "output_type": "execute_result"
    }
   ],
   "source": [
    "(* \n",
    "|SPECIFICATION\n",
    "| difsym:\n",
    "| -Profil : difsym : 'a ensemble -> 'a ensemble -> 'a ensemble\n",
    "| -Semantic: difsym e1 e2 returns the union of the given lists e1 and e2 but without the elements that are in the intersection of the two lists\n",
    "| -Example : (a) difsym (Ce(5,Ce(4,Ce (1,Ce(2,Ce(13,Ve)))))) (Ce(8,Ce(5,Ce (11,Ce(2,Ce(3,Ve))))))= Ce (4, Ce (1, Ce (13, Ce (8, Ce (11, Ce (3, Ve))))))\n",
    "|            (b) difsym (Ce(5,Ce(4,Ce (1,Ce(2,Ce(13,Ve))))))  (Ce(5,Ce(4,Ce (1,Ce(2,Ce(13,Ve)))))) = Ve\n",
    "|REALISATION\n",
    "| -Algorithm : Using the function dif we find first the difference between e1 and e2 and then the difference between\n",
    "| e2 and e1 and makes the union of both sets.\n",
    "| -Implementation: *)\n",
    "let rec difsym (e1: 'a ensemble) (e2: 'a ensemble) : 'a ensemble= \n",
    "let ep1 = dif e1 e2 and ep2 = dif e2 e1 in union ep1 ep2;;\n",
    "\n",
    "let test1= Ce(5,Ce(41,Ce (18,Ce(2,Ce(13,Ve)))));;\n",
    "assert(difsym test1 my_ensemble1=Ce (41, Ce (18, Ce (13, Ce (3, Ce (4, Ve))))));;"
   ]
  },
  {
   "cell_type": "markdown",
   "metadata": {},
   "source": [
    "## 3 Resuing: OCaml lists and higher order \n",
    "### Question 2"
   ]
  },
  {
   "cell_type": "code",
   "execution_count": 13,
   "metadata": {
    "vscode": {
     "languageId": "ocaml"
    }
   },
   "outputs": [
    {
     "data": {
      "text/plain": [
       "val cardinale : 'a list -> int = <fun>\n"
      ]
     },
     "execution_count": 13,
     "metadata": {},
     "output_type": "execute_result"
    },
    {
     "data": {
      "text/plain": [
       "val list1 : int list = [2; 3; 4; 5]\n"
      ]
     },
     "execution_count": 13,
     "metadata": {},
     "output_type": "execute_result"
    },
    {
     "data": {
      "text/plain": [
       "val list2 : char list = ['p'; 'a'; 'c'; 'r'; 't']\n"
      ]
     },
     "execution_count": 13,
     "metadata": {},
     "output_type": "execute_result"
    },
    {
     "data": {
      "text/plain": [
       "val list3 : float list = [2.6; 6.3; 42.; 51.3]\n"
      ]
     },
     "execution_count": 13,
     "metadata": {},
     "output_type": "execute_result"
    },
    {
     "data": {
      "text/plain": [
       "- : unit = ()\n"
      ]
     },
     "execution_count": 13,
     "metadata": {},
     "output_type": "execute_result"
    },
    {
     "data": {
      "text/plain": [
       "- : unit = ()\n"
      ]
     },
     "execution_count": 13,
     "metadata": {},
     "output_type": "execute_result"
    },
    {
     "data": {
      "text/plain": [
       "- : unit = ()\n"
      ]
     },
     "execution_count": 13,
     "metadata": {},
     "output_type": "execute_result"
    }
   ],
   "source": [
    "let rec cardinale (e: 'a list):int=\n",
    " match e with \n",
    " | [] -> 0\n",
    " | hd::tl -> 1+ cardinale tl;;\n",
    " \n",
    "let list1=[2;3;4;5];;\n",
    "let list2=['p';'a';'c';'r';'t'];;\n",
    "let list3 = [2.6;6.3;42.;51.3];;\n",
    "\n",
    "assert(cardinale list1=4);;\n",
    "assert(cardinale list2=5);;\n",
    "assert(cardinale list3=4);;"
   ]
  },
  {
   "cell_type": "code",
   "execution_count": 14,
   "metadata": {
    "vscode": {
     "languageId": "ocaml"
    }
   },
   "outputs": [
    {
     "data": {
      "text/plain": [
       "val appartient : 'a -> 'a list -> bool = <fun>\n"
      ]
     },
     "execution_count": 14,
     "metadata": {},
     "output_type": "execute_result"
    },
    {
     "data": {
      "text/plain": [
       "- : unit = ()\n"
      ]
     },
     "execution_count": 14,
     "metadata": {},
     "output_type": "execute_result"
    },
    {
     "data": {
      "text/plain": [
       "- : unit = ()\n"
      ]
     },
     "execution_count": 14,
     "metadata": {},
     "output_type": "execute_result"
    },
    {
     "data": {
      "text/plain": [
       "- : unit = ()\n"
      ]
     },
     "execution_count": 14,
     "metadata": {},
     "output_type": "execute_result"
    }
   ],
   "source": [
    "let rec appartient (c:'a) (e: 'a list):bool=\n",
    " match e with \n",
    " | [] -> false\n",
    " | hd::tl -> if hd = c then true else appartient c tl;;\n",
    "\n",
    "assert(appartient 1 list1=false);;\n",
    "assert(appartient 'r' list2=true);;\n",
    "assert(appartient 1.5 list3=false);;"
   ]
  },
  {
   "cell_type": "code",
   "execution_count": 15,
   "metadata": {
    "vscode": {
     "languageId": "ocaml"
    }
   },
   "outputs": [
    {
     "data": {
      "text/plain": [
       "val inclus : 'a list -> 'a list -> bool = <fun>\n"
      ]
     },
     "execution_count": 15,
     "metadata": {},
     "output_type": "execute_result"
    },
    {
     "data": {
      "text/plain": [
       "val inclus_test1 : int list = [3; 2; 5]\n"
      ]
     },
     "execution_count": 15,
     "metadata": {},
     "output_type": "execute_result"
    },
    {
     "data": {
      "text/plain": [
       "val inclus_test2 : char list = ['a'; 'b'; 'e']\n"
      ]
     },
     "execution_count": 15,
     "metadata": {},
     "output_type": "execute_result"
    },
    {
     "data": {
      "text/plain": [
       "val inclus_test3 : float list = [3.1; 2.4; 7.5]\n"
      ]
     },
     "execution_count": 15,
     "metadata": {},
     "output_type": "execute_result"
    },
    {
     "data": {
      "text/plain": [
       "- : unit = ()\n"
      ]
     },
     "execution_count": 15,
     "metadata": {},
     "output_type": "execute_result"
    },
    {
     "data": {
      "text/plain": [
       "- : unit = ()\n"
      ]
     },
     "execution_count": 15,
     "metadata": {},
     "output_type": "execute_result"
    },
    {
     "data": {
      "text/plain": [
       "- : unit = ()\n"
      ]
     },
     "execution_count": 15,
     "metadata": {},
     "output_type": "execute_result"
    }
   ],
   "source": [
    "let rec inclus (e1: 'a list) (e2: 'a list): bool=\n",
    "    match e1,e2 with \n",
    "    | [],[] -> true\n",
    "    | [],_::_ -> true\n",
    "    | hd::tl,_-> if appartient hd e2 then inclus tl e2 else false;;\n",
    "\n",
    "let inclus_test1 =[3;2;5];;\n",
    "let inclus_test2 = ['a';'b';'e'];;\n",
    "let inclus_test3 = [3.1;2.4;7.5];;\n",
    "assert(inclus inclus_test1 list1 = true);;\n",
    "assert(inclus inclus_test2 list2 = false);;\n",
    "assert(inclus inclus_test3 list3 = false);;"
   ]
  },
  {
   "cell_type": "code",
   "execution_count": 16,
   "metadata": {
    "vscode": {
     "languageId": "ocaml"
    }
   },
   "outputs": [
    {
     "data": {
      "text/plain": [
       "val ajout : 'a -> 'a list -> 'a list = <fun>\n"
      ]
     },
     "execution_count": 16,
     "metadata": {},
     "output_type": "execute_result"
    },
    {
     "data": {
      "text/plain": [
       "- : unit = ()\n"
      ]
     },
     "execution_count": 16,
     "metadata": {},
     "output_type": "execute_result"
    },
    {
     "data": {
      "text/plain": [
       "- : unit = ()\n"
      ]
     },
     "execution_count": 16,
     "metadata": {},
     "output_type": "execute_result"
    },
    {
     "data": {
      "text/plain": [
       "- : unit = ()\n"
      ]
     },
     "execution_count": 16,
     "metadata": {},
     "output_type": "execute_result"
    }
   ],
   "source": [
    "let ajout (el:'a) (e: 'a list) :'a list=\n",
    "if appartient el e then e else el::e;;\n",
    "\n",
    "assert(ajout 10 list1 =[10;2;3;4;5]);;\n",
    "assert(ajout 'r'  list2=['p';'a';'c';'r';'t']);;\n",
    "assert(ajout 45.1 list3 =[45.1;2.6;6.3;42.;51.3]);;"
   ]
  },
  {
   "cell_type": "code",
   "execution_count": 17,
   "metadata": {
    "vscode": {
     "languageId": "ocaml"
    }
   },
   "outputs": [
    {
     "data": {
      "text/plain": [
       "val supprime : 'a -> 'a list -> 'a list = <fun>\n"
      ]
     },
     "execution_count": 17,
     "metadata": {},
     "output_type": "execute_result"
    },
    {
     "data": {
      "text/plain": [
       "- : unit = ()\n"
      ]
     },
     "execution_count": 17,
     "metadata": {},
     "output_type": "execute_result"
    },
    {
     "data": {
      "text/plain": [
       "- : unit = ()\n"
      ]
     },
     "execution_count": 17,
     "metadata": {},
     "output_type": "execute_result"
    },
    {
     "data": {
      "text/plain": [
       "- : unit = ()\n"
      ]
     },
     "execution_count": 17,
     "metadata": {},
     "output_type": "execute_result"
    }
   ],
   "source": [
    "let rec supprime(el:'a)(e:'a list):'a list =\n",
    "if appartient el e then\n",
    "        match e with\n",
    "        | [] -> []\n",
    "        | hd::tail -> if el=hd then tail else hd::(supprime el tail)\n",
    "else e;;\n",
    "assert(supprime 2 list1 = [3;4;5]);;\n",
    "assert(supprime 'r' list2 = ['p';'a';'c';'t']);;\n",
    "assert(supprime 5.1 list3 = [2.6;6.3;42.;51.3]);;\n"
   ]
  },
  {
   "cell_type": "code",
   "execution_count": 18,
   "metadata": {
    "vscode": {
     "languageId": "ocaml"
    }
   },
   "outputs": [
    {
     "data": {
      "text/plain": [
       "val egaux : 'a list -> 'a list -> bool = <fun>\n"
      ]
     },
     "execution_count": 18,
     "metadata": {},
     "output_type": "execute_result"
    },
    {
     "data": {
      "text/plain": [
       "val test_equal1 : int list = [4; 1; 2; 3]\n"
      ]
     },
     "execution_count": 18,
     "metadata": {},
     "output_type": "execute_result"
    },
    {
     "data": {
      "text/plain": [
       "val test_equal2 : int list = [3; 4; 2; 5]\n"
      ]
     },
     "execution_count": 18,
     "metadata": {},
     "output_type": "execute_result"
    },
    {
     "data": {
      "text/plain": [
       "val test_equal_float : float list = [2.6; 6.3; 42.; 51.3]\n"
      ]
     },
     "execution_count": 18,
     "metadata": {},
     "output_type": "execute_result"
    },
    {
     "data": {
      "text/plain": [
       "- : unit = ()\n"
      ]
     },
     "execution_count": 18,
     "metadata": {},
     "output_type": "execute_result"
    },
    {
     "data": {
      "text/plain": [
       "- : unit = ()\n"
      ]
     },
     "execution_count": 18,
     "metadata": {},
     "output_type": "execute_result"
    },
    {
     "data": {
      "text/plain": [
       "- : unit = ()\n"
      ]
     },
     "execution_count": 18,
     "metadata": {},
     "output_type": "execute_result"
    }
   ],
   "source": [
    "let egaux (e1: 'a list) (e2: 'a list): bool=\n",
    "inclus e1 e2 && inclus e2 e1;;\n",
    "\n",
    "let test_equal1 = [4;1;2;3];;\n",
    "let test_equal2 = [3;4;2;5];;\n",
    "let test_equal_float = [2.6;6.3;42.;51.3];;\n",
    "assert(egaux test_equal1 list1=false);;\n",
    "assert(egaux test_equal2 list1 = true);;\n",
    "assert(egaux test_equal_float list3 = true);;\n"
   ]
  },
  {
   "cell_type": "code",
   "execution_count": 19,
   "metadata": {
    "vscode": {
     "languageId": "ocaml"
    }
   },
   "outputs": [
    {
     "data": {
      "text/plain": [
       "val intersection : 'a list -> 'a list -> 'a list = <fun>\n"
      ]
     },
     "execution_count": 19,
     "metadata": {},
     "output_type": "execute_result"
    },
    {
     "data": {
      "text/plain": [
       "val list4 : int list = [8; 5; 11; 2; 3]\n"
      ]
     },
     "execution_count": 19,
     "metadata": {},
     "output_type": "execute_result"
    },
    {
     "data": {
      "text/plain": [
       "val test_intersection1 : int list = [18; 4; 1; 5; 13]\n"
      ]
     },
     "execution_count": 19,
     "metadata": {},
     "output_type": "execute_result"
    },
    {
     "data": {
      "text/plain": [
       "val test_intersection2 : char list = ['e'; 't'; 'r'; 'v'; 'o']\n"
      ]
     },
     "execution_count": 19,
     "metadata": {},
     "output_type": "execute_result"
    },
    {
     "data": {
      "text/plain": [
       "- : unit = ()\n"
      ]
     },
     "execution_count": 19,
     "metadata": {},
     "output_type": "execute_result"
    },
    {
     "data": {
      "text/plain": [
       "- : unit = ()\n"
      ]
     },
     "execution_count": 19,
     "metadata": {},
     "output_type": "execute_result"
    }
   ],
   "source": [
    "let rec intersection (e1: 'a list) (e2: 'a list) : 'a list=\n",
    "if inclus e1 e2 then e1 else if inclus e2 e1 then e2 else\n",
    "match e1 with \n",
    "| []-> []\n",
    "| a::e1prime-> if appartient a e2 then a::(intersection e1prime e2) else intersection e1prime e2;;\n",
    "\n",
    "let list4 = [8;5;11;2;3]\n",
    "let test_intersection1 = [18;4;1;5;13];;\n",
    "let test_intersection2 = ['e';'t';'r';'v';'o'];;\n",
    "assert(intersection test_intersection1 list4 =[5]);;\n",
    "assert(intersection test_intersection2 list2=['t';'r']);;\n"
   ]
  },
  {
   "cell_type": "code",
   "execution_count": 20,
   "metadata": {
    "vscode": {
     "languageId": "ocaml"
    }
   },
   "outputs": [
    {
     "data": {
      "text/plain": [
       "val union : 'a list -> 'a list -> 'a list = <fun>\n"
      ]
     },
     "execution_count": 20,
     "metadata": {},
     "output_type": "execute_result"
    },
    {
     "data": {
      "text/plain": [
       "val test_union1 : int list = [18; 4; 1; 5; 13]\n"
      ]
     },
     "execution_count": 20,
     "metadata": {},
     "output_type": "execute_result"
    },
    {
     "data": {
      "text/plain": [
       "val test_union2 : char list = ['e'; 'p'; 'c'; 'z']\n"
      ]
     },
     "execution_count": 20,
     "metadata": {},
     "output_type": "execute_result"
    },
    {
     "data": {
      "text/plain": [
       "val test : string list = [\"aaa\"; \"bbb\"]\n"
      ]
     },
     "execution_count": 20,
     "metadata": {},
     "output_type": "execute_result"
    },
    {
     "data": {
      "text/plain": [
       "val list5 : string list = [\"aba\"; \"aaa\"; \"bbb\"]\n"
      ]
     },
     "execution_count": 20,
     "metadata": {},
     "output_type": "execute_result"
    },
    {
     "data": {
      "text/plain": [
       "- : unit = ()\n"
      ]
     },
     "execution_count": 20,
     "metadata": {},
     "output_type": "execute_result"
    },
    {
     "data": {
      "text/plain": [
       "- : unit = ()\n"
      ]
     },
     "execution_count": 20,
     "metadata": {},
     "output_type": "execute_result"
    },
    {
     "data": {
      "text/plain": [
       "- : unit = ()\n"
      ]
     },
     "execution_count": 20,
     "metadata": {},
     "output_type": "execute_result"
    }
   ],
   "source": [
    "let rec union (e1: 'a list) (e2: 'a list) : 'a list=\n",
    "if inclus e1 e2 then e2 else if inclus e2 e1 then e1 else \n",
    "match e1 with\n",
    "| []-> e2\n",
    "| a::e1prime-> if appartient a e2 then union e1prime e2 else a::(union e1prime e2);;\n",
    "\n",
    "let test_union1 = [18;4;1;5;13];;\n",
    "let test_union2 = ['e';'p';'c';'z'];;\n",
    "let test = [\"aaa\";\"bbb\"];;\n",
    "let list5 =  [\"aba\";\"aaa\";\"bbb\"];;\n",
    "assert(union test_union1 list1=[18;1;13;2;3;4;5]);;\n",
    "assert(union test_union2 list2=['e';'z';'p';'a';'c';'r';'t']);;\n",
    "assert(union test list5= [\"aba\";\"aaa\";\"bbb\"]);;"
   ]
  },
  {
   "cell_type": "code",
   "execution_count": 21,
   "metadata": {
    "vscode": {
     "languageId": "ocaml"
    }
   },
   "outputs": [
    {
     "data": {
      "text/plain": [
       "val dif : 'a list -> 'a list -> 'a list = <fun>\n"
      ]
     },
     "execution_count": 21,
     "metadata": {},
     "output_type": "execute_result"
    },
    {
     "data": {
      "text/plain": [
       "val test_dif1 : int list = [5; 4; 1; 2; 13]\n"
      ]
     },
     "execution_count": 21,
     "metadata": {},
     "output_type": "execute_result"
    },
    {
     "data": {
      "text/plain": [
       "val test_dif2 : float list = [2.6; 21.; 42.]\n"
      ]
     },
     "execution_count": 21,
     "metadata": {},
     "output_type": "execute_result"
    },
    {
     "data": {
      "text/plain": [
       "- : unit = ()\n"
      ]
     },
     "execution_count": 21,
     "metadata": {},
     "output_type": "execute_result"
    },
    {
     "data": {
      "text/plain": [
       "- : unit = ()\n"
      ]
     },
     "execution_count": 21,
     "metadata": {},
     "output_type": "execute_result"
    }
   ],
   "source": [
    "let rec dif (e1: 'a list) (e2: 'a list) : 'a list=\n",
    "    match e1 with\n",
    "    | [] -> []\n",
    "    | a::ep-> if appartient a e2 then dif ep e2 else a::(dif ep e2);;\n",
    "     \n",
    "let test_dif1 = [5;4;1;2;13];;\n",
    "let test_dif2 = [2.6;21.;42.];;\n",
    "assert(dif test_dif1 list1 =[1;13]);;\n",
    "assert(dif test_dif2 list3= [21.]);;"
   ]
  },
  {
   "cell_type": "code",
   "execution_count": 22,
   "metadata": {
    "vscode": {
     "languageId": "ocaml"
    }
   },
   "outputs": [
    {
     "data": {
      "text/plain": [
       "val difsym : 'a list -> 'a list -> 'a list = <fun>\n"
      ]
     },
     "execution_count": 22,
     "metadata": {},
     "output_type": "execute_result"
    },
    {
     "data": {
      "text/plain": [
       "val test1 : int list = [5; 41; 18; 2; 13]\n"
      ]
     },
     "execution_count": 22,
     "metadata": {},
     "output_type": "execute_result"
    },
    {
     "data": {
      "text/plain": [
       "- : int list = [41; 18; 13; 3; 4]\n"
      ]
     },
     "execution_count": 22,
     "metadata": {},
     "output_type": "execute_result"
    },
    {
     "data": {
      "text/plain": [
       "- : unit = ()\n"
      ]
     },
     "execution_count": 22,
     "metadata": {},
     "output_type": "execute_result"
    }
   ],
   "source": [
    "let rec difsym (e1: 'a list) (e2: 'a list) : 'a list= \n",
    "let ep1 = dif e1 e2 and ep2 = dif e2 e1 in union ep1 ep2;;\n",
    "\n",
    "let test1= [5;41;18;2;13];;\n",
    "difsym test1 list1;;\n",
    "assert(difsym test1 list1=[41;18;13;3;4]);;"
   ]
  },
  {
   "cell_type": "markdown",
   "metadata": {},
   "source": [
    "### Question 3"
   ]
  },
  {
   "cell_type": "code",
   "execution_count": 23,
   "metadata": {
    "vscode": {
     "languageId": "ocaml"
    }
   },
   "outputs": [
    {
     "data": {
      "text/plain": [
       "val list1 : int list = [2; 3; 4; 5]\n"
      ]
     },
     "execution_count": 23,
     "metadata": {},
     "output_type": "execute_result"
    },
    {
     "data": {
      "text/plain": [
       "val list2 : char list = ['p'; 'a'; 'c'; 'r'; 't']\n"
      ]
     },
     "execution_count": 23,
     "metadata": {},
     "output_type": "execute_result"
    },
    {
     "data": {
      "text/plain": [
       "val list3 : float list = [2.6; 6.3; 42.; 51.3]\n"
      ]
     },
     "execution_count": 23,
     "metadata": {},
     "output_type": "execute_result"
    },
    {
     "data": {
      "text/plain": [
       "val cardinal_V3 : 'a list -> int = <fun>\n"
      ]
     },
     "execution_count": 23,
     "metadata": {},
     "output_type": "execute_result"
    },
    {
     "data": {
      "text/plain": [
       "- : int = 4\n"
      ]
     },
     "execution_count": 23,
     "metadata": {},
     "output_type": "execute_result"
    },
    {
     "data": {
      "text/plain": [
       "- : int = 5\n"
      ]
     },
     "execution_count": 23,
     "metadata": {},
     "output_type": "execute_result"
    },
    {
     "data": {
      "text/plain": [
       "- : int = 4\n"
      ]
     },
     "execution_count": 23,
     "metadata": {},
     "output_type": "execute_result"
    },
    {
     "data": {
      "text/plain": [
       "val appartient : 'a -> 'a list -> bool = <fun>\n"
      ]
     },
     "execution_count": 23,
     "metadata": {},
     "output_type": "execute_result"
    },
    {
     "data": {
      "text/plain": [
       "- : bool = true\n"
      ]
     },
     "execution_count": 23,
     "metadata": {},
     "output_type": "execute_result"
    },
    {
     "data": {
      "text/plain": [
       "- : bool = false\n"
      ]
     },
     "execution_count": 23,
     "metadata": {},
     "output_type": "execute_result"
    },
    {
     "data": {
      "text/plain": [
       "- : bool = false\n"
      ]
     },
     "execution_count": 23,
     "metadata": {},
     "output_type": "execute_result"
    },
    {
     "data": {
      "text/plain": [
       "val inclus : 'a list -> 'a list -> bool = <fun>\n"
      ]
     },
     "execution_count": 23,
     "metadata": {},
     "output_type": "execute_result"
    },
    {
     "data": {
      "text/plain": [
       "val inclus_test1 : int list = [3; 2; 5]\n"
      ]
     },
     "execution_count": 23,
     "metadata": {},
     "output_type": "execute_result"
    },
    {
     "data": {
      "text/plain": [
       "val inclus_test2 : char list = ['a'; 'b'; 'e']\n"
      ]
     },
     "execution_count": 23,
     "metadata": {},
     "output_type": "execute_result"
    },
    {
     "data": {
      "text/plain": [
       "val inclus_test3 : float list = [3.1; 2.4; 7.5]\n"
      ]
     },
     "execution_count": 23,
     "metadata": {},
     "output_type": "execute_result"
    },
    {
     "data": {
      "text/plain": [
       "- : unit = ()\n"
      ]
     },
     "execution_count": 23,
     "metadata": {},
     "output_type": "execute_result"
    },
    {
     "data": {
      "text/plain": [
       "- : unit = ()\n"
      ]
     },
     "execution_count": 23,
     "metadata": {},
     "output_type": "execute_result"
    },
    {
     "data": {
      "text/plain": [
       "- : unit = ()\n"
      ]
     },
     "execution_count": 23,
     "metadata": {},
     "output_type": "execute_result"
    }
   ],
   "source": [
    "let list1=[2;3;4;5];;\n",
    "let list2=['p';'a';'c';'r';'t'];;\n",
    "let list3 = [2.6;6.3;42.;51.3];;\n",
    "let cardinal_V3 (l:'a list):int=\n",
    "    List.fold_left (fun acc x -> acc+1) 0 l;;\n",
    "cardinal_V3 list1;;\n",
    "cardinal_V3 list2;;\n",
    "cardinal_V3 list3;;\n",
    "\n",
    "let appartient (x:'a)(l:'a list):bool=\n",
    "    List.exists (fun a-> a=x) l;;\n",
    "   \n",
    "    \n",
    "appartient 3 list1;;\n",
    "appartient 's' list2;;\n",
    "appartient 2.7 list3;;\n",
    "\n",
    "let inclus (l1: 'a list) (l2: 'a list):bool=\n",
    "List.fold_left (fun acc e -> acc && appartient e l2) true l1;;\n",
    "\n",
    "let inclus_test1 =[3;2;5];;\n",
    "let inclus_test2 = ['a';'b';'e'];;\n",
    "let inclus_test3 = [3.1;2.4;7.5];;\n",
    "assert(inclus inclus_test1 list1 = true);;\n",
    "assert(inclus inclus_test2 list2 = false);;\n",
    "assert(inclus inclus_test3 list3 = false);;\n",
    "\n"
   ]
  },
  {
   "cell_type": "code",
   "execution_count": 24,
   "metadata": {
    "vscode": {
     "languageId": "ocaml"
    }
   },
   "outputs": [
    {
     "data": {
      "text/plain": [
       "val supprime : 'a -> 'a list -> 'a list = <fun>\n"
      ]
     },
     "execution_count": 24,
     "metadata": {},
     "output_type": "execute_result"
    },
    {
     "data": {
      "text/plain": [
       "- : unit = ()\n"
      ]
     },
     "execution_count": 24,
     "metadata": {},
     "output_type": "execute_result"
    },
    {
     "data": {
      "text/plain": [
       "- : unit = ()\n"
      ]
     },
     "execution_count": 24,
     "metadata": {},
     "output_type": "execute_result"
    },
    {
     "data": {
      "text/plain": [
       "- : unit = ()\n"
      ]
     },
     "execution_count": 24,
     "metadata": {},
     "output_type": "execute_result"
    },
    {
     "data": {
      "text/plain": [
       "- : string list = [\"aba\"; \"bbb\"]\n"
      ]
     },
     "execution_count": 24,
     "metadata": {},
     "output_type": "execute_result"
    },
    {
     "data": {
      "text/plain": [
       "val intersection : 'a list -> 'a list -> 'a list = <fun>\n"
      ]
     },
     "execution_count": 24,
     "metadata": {},
     "output_type": "execute_result"
    },
    {
     "data": {
      "text/plain": [
       "val list4 : int list = [8; 5; 11; 2; 3]\n"
      ]
     },
     "execution_count": 24,
     "metadata": {},
     "output_type": "execute_result"
    },
    {
     "data": {
      "text/plain": [
       "val test_intersection1 : int list = [18; 4; 1; 5; 13]\n"
      ]
     },
     "execution_count": 24,
     "metadata": {},
     "output_type": "execute_result"
    },
    {
     "data": {
      "text/plain": [
       "val test_intersection2 : char list = ['e'; 't'; 'r'; 'v'; 'o']\n"
      ]
     },
     "execution_count": 24,
     "metadata": {},
     "output_type": "execute_result"
    },
    {
     "data": {
      "text/plain": [
       "- : unit = ()\n"
      ]
     },
     "execution_count": 24,
     "metadata": {},
     "output_type": "execute_result"
    },
    {
     "data": {
      "text/plain": [
       "- : unit = ()\n"
      ]
     },
     "execution_count": 24,
     "metadata": {},
     "output_type": "execute_result"
    }
   ],
   "source": [
    "let rec supprime(el:'a)(l:'a list):'a list =\n",
    "    List.filter (fun x -> x<>el) l;;\n",
    "\n",
    "\n",
    "assert(supprime 2 list1 = [3;4;5]);;\n",
    "assert(supprime 'r' list2 = ['p';'a';'c';'t']);;\n",
    "assert(supprime 5.1 list3 = [2.6;6.3;42.;51.3]);;\n",
    "supprime \"aaa\" [\"aba\";\"aaa\";\"bbb\"];;\n",
    "\n",
    "let rec intersection (e1: 'a list) (e2: 'a list) : 'a list=\n",
    "    List.filter (fun x-> appartient x e2 ) e1;;\n",
    "    \n",
    "    \n",
    "let list4 = [8;5;11;2;3]\n",
    "let test_intersection1 = [18;4;1;5;13];;\n",
    "let test_intersection2 = ['e';'t';'r';'v';'o'];;\n",
    "assert(intersection test_intersection1 list4 =[5]);;\n",
    "assert(intersection test_intersection2 list2=['t';'r']);;\n",
    "\n"
   ]
  },
  {
   "cell_type": "code",
   "execution_count": 25,
   "metadata": {
    "vscode": {
     "languageId": "ocaml"
    }
   },
   "outputs": [
    {
     "data": {
      "text/plain": [
       "val union : 'a list -> 'a list -> 'a list = <fun>\n"
      ]
     },
     "execution_count": 25,
     "metadata": {},
     "output_type": "execute_result"
    },
    {
     "data": {
      "text/plain": [
       "val test_union1 : int list = [18; 4; 1; 5; 13]\n"
      ]
     },
     "execution_count": 25,
     "metadata": {},
     "output_type": "execute_result"
    },
    {
     "data": {
      "text/plain": [
       "val test_union2 : char list = ['e'; 'p'; 'c'; 'z']\n"
      ]
     },
     "execution_count": 25,
     "metadata": {},
     "output_type": "execute_result"
    },
    {
     "data": {
      "text/plain": [
       "val test : string list = [\"aaa\"; \"bbb\"]\n"
      ]
     },
     "execution_count": 25,
     "metadata": {},
     "output_type": "execute_result"
    },
    {
     "data": {
      "text/plain": [
       "val list5 : string list = [\"aba\"; \"aaa\"; \"bbb\"]\n"
      ]
     },
     "execution_count": 25,
     "metadata": {},
     "output_type": "execute_result"
    },
    {
     "data": {
      "text/plain": [
       "- : unit = ()\n"
      ]
     },
     "execution_count": 25,
     "metadata": {},
     "output_type": "execute_result"
    },
    {
     "data": {
      "text/plain": [
       "- : unit = ()\n"
      ]
     },
     "execution_count": 25,
     "metadata": {},
     "output_type": "execute_result"
    },
    {
     "data": {
      "text/plain": [
       "- : unit = ()\n"
      ]
     },
     "execution_count": 25,
     "metadata": {},
     "output_type": "execute_result"
    },
    {
     "data": {
      "text/plain": [
       "val dif : 'a list -> 'a list -> 'a list = <fun>\n"
      ]
     },
     "execution_count": 25,
     "metadata": {},
     "output_type": "execute_result"
    },
    {
     "data": {
      "text/plain": [
       "val test_dif1 : int list = [5; 4; 1; 2; 13]\n"
      ]
     },
     "execution_count": 25,
     "metadata": {},
     "output_type": "execute_result"
    },
    {
     "data": {
      "text/plain": [
       "val test_dif2 : float list = [2.6; 21.; 42.]\n"
      ]
     },
     "execution_count": 25,
     "metadata": {},
     "output_type": "execute_result"
    },
    {
     "data": {
      "text/plain": [
       "- : unit = ()\n"
      ]
     },
     "execution_count": 25,
     "metadata": {},
     "output_type": "execute_result"
    },
    {
     "data": {
      "text/plain": [
       "- : unit = ()\n"
      ]
     },
     "execution_count": 25,
     "metadata": {},
     "output_type": "execute_result"
    }
   ],
   "source": [
    "let rec union (e1: 'a list) (e2: 'a list) : 'a list=\n",
    "    List.filter (fun x->appartient x (intersection e1 e2)<>true) e1@e2;;\n",
    "\n",
    "let test_union1 = [18;4;1;5;13];;\n",
    "let test_union2 = ['e';'p';'c';'z'];;\n",
    "let test = [\"aaa\";\"bbb\"];;\n",
    "let list5 =  [\"aba\";\"aaa\";\"bbb\"];;\n",
    "assert(union test_union1 list1=[18;1;13;2;3;4;5]);;\n",
    "assert(union test_union2 list2=['e';'z';'p';'a';'c';'r';'t']);;\n",
    "assert(union test list5= [\"aba\";\"aaa\";\"bbb\"]);;\n",
    "\n",
    "let rec dif (e1: 'a list) (e2: 'a list) : 'a list=\n",
    "    List.filter (fun x-> appartient x e2<>true) (union e1 e2);;\n",
    "     \n",
    "let test_dif1 = [5;4;1;2;13];;\n",
    "let test_dif2 = [2.6;21.;42.];;\n",
    "assert(dif test_dif1 list1 =[1;13]);;\n",
    "assert(dif test_dif2 list3= [21.]);;"
   ]
  },
  {
   "cell_type": "markdown",
   "metadata": {},
   "source": [
    "## 4 Multi-sets\n",
    "### Question 4"
   ]
  },
  {
   "cell_type": "code",
   "execution_count": 26,
   "metadata": {
    "vscode": {
     "languageId": "ocaml"
    }
   },
   "outputs": [
    {
     "data": {
      "text/plain": [
       "type 'a multielement = 'a * int\n"
      ]
     },
     "execution_count": 26,
     "metadata": {},
     "output_type": "execute_result"
    },
    {
     "data": {
      "text/plain": [
       "type 'a multiensemble = 'a multielement list\n"
      ]
     },
     "execution_count": 26,
     "metadata": {},
     "output_type": "execute_result"
    },
    {
     "data": {
      "text/plain": [
       "val multiEnsChar : (char * int) list = [('c', 2); ('s', 3); ('m', 2)]\n"
      ]
     },
     "execution_count": 26,
     "metadata": {},
     "output_type": "execute_result"
    },
    {
     "data": {
      "text/plain": [
       "val multiEnsInt : (int * int) list =\n",
       "  [(1, 2); (3, 3); (4, 2); (8, 2); (12, 2)]\n"
      ]
     },
     "execution_count": 26,
     "metadata": {},
     "output_type": "execute_result"
    },
    {
     "data": {
      "text/plain": [
       "val multiEnsStr : (string * int) list =\n",
       "  [(\"aaa\", 2); (\"bbb\", 3); (\"ccc\", 2); (\"ddd\", 2); (\"eee\", 2)]\n"
      ]
     },
     "execution_count": 26,
     "metadata": {},
     "output_type": "execute_result"
    }
   ],
   "source": [
    "type 'a multielement='a *int;;\n",
    "type 'a multiensemble = 'a multielement list;;\n",
    "\n",
    "let multiEnsChar = [('c',2);('s',3);('m',2)];;\n",
    "let multiEnsInt = [(1,2);(3,3);(4,2);(8,2);(12,2)];;\n",
    "let multiEnsStr = [(\"aaa\",2);(\"bbb\",3);(\"ccc\",2);(\"ddd\",2);(\"eee\",2)];;"
   ]
  },
  {
   "cell_type": "markdown",
   "metadata": {},
   "source": [
    "### Question 5"
   ]
  },
  {
   "cell_type": "code",
   "execution_count": 27,
   "metadata": {
    "vscode": {
     "languageId": "ocaml"
    }
   },
   "outputs": [
    {
     "data": {
      "text/plain": [
       "val cardinal : 'a multiensemble -> int * int = <fun>\n"
      ]
     },
     "execution_count": 27,
     "metadata": {},
     "output_type": "execute_result"
    },
    {
     "data": {
      "text/plain": [
       "- : unit = ()\n"
      ]
     },
     "execution_count": 27,
     "metadata": {},
     "output_type": "execute_result"
    },
    {
     "data": {
      "text/plain": [
       "- : unit = ()\n"
      ]
     },
     "execution_count": 27,
     "metadata": {},
     "output_type": "execute_result"
    },
    {
     "data": {
      "text/plain": [
       "- : unit = ()\n"
      ]
     },
     "execution_count": 27,
     "metadata": {},
     "output_type": "execute_result"
    }
   ],
   "source": [
    "let cardinal (m: 'a multiensemble):(int*int)=\n",
    "    (List.fold_left (fun acc x -> acc+1) 0 m) , (List.fold_left (fun acc x -> let (a,b)=x in acc+b) 0 m);;\n",
    "\n",
    "assert(cardinal multiEnsChar = (3, 7));;\n",
    "assert(cardinal multiEnsInt = (5, 11));;\n",
    "assert(cardinal multiEnsStr = (5, 11));;\n"
   ]
  },
  {
   "cell_type": "code",
   "execution_count": 28,
   "metadata": {
    "vscode": {
     "languageId": "ocaml"
    }
   },
   "outputs": [
    {
     "name": "stderr",
     "output_type": "stream",
     "text": [
      "File \"[28]\", line 2, characters 78-96:\n",
      "2 |  let a = (List.filter (fun x-> let (a,b)=x in a=e) m) in if a =[] then 0 else let [(s,r)]=a in r ;;\n",
      "                                                                                  ^^^^^^^^^^^^^^^^^^\n",
      "Warning 8: this pattern-matching is not exhaustive.\n",
      "Here is an example of a case that is not matched:\n",
      "((_, _)::(_, _)::_|[])\n"
     ]
    },
    {
     "data": {
      "text/plain": [
       "val occurence : 'a -> 'a multiensemble -> int = <fun>\n"
      ]
     },
     "execution_count": 28,
     "metadata": {},
     "output_type": "execute_result"
    },
    {
     "data": {
      "text/plain": [
       "- : unit = ()\n"
      ]
     },
     "execution_count": 28,
     "metadata": {},
     "output_type": "execute_result"
    },
    {
     "data": {
      "text/plain": [
       "- : unit = ()\n"
      ]
     },
     "execution_count": 28,
     "metadata": {},
     "output_type": "execute_result"
    },
    {
     "data": {
      "text/plain": [
       "- : unit = ()\n"
      ]
     },
     "execution_count": 28,
     "metadata": {},
     "output_type": "execute_result"
    }
   ],
   "source": [
    "let occurence (e:'a) (m:'a multiensemble):int=\n",
    " let a = (List.filter (fun x-> let (a,b)=x in a=e) m) in if a =[] then 0 else let [(s,r)]=a in r ;;\n",
    "(*We assume that there can be only one occurence of the couple (a,b), therefore\n",
    "there can only be one couple that contains a specific element a.*)\n",
    "assert(occurence 'c' multiEnsChar = 2);;\n",
    "assert(occurence 34 multiEnsInt = 0 );;\n",
    "assert(occurence \"aaa\" multiEnsStr =2);;\n",
    "\n"
   ]
  },
  {
   "cell_type": "code",
   "execution_count": 29,
   "metadata": {
    "vscode": {
     "languageId": "ocaml"
    }
   },
   "outputs": [
    {
     "data": {
      "text/plain": [
       "val appartenance : 'a multielement -> 'a multiensemble -> bool = <fun>\n"
      ]
     },
     "execution_count": 29,
     "metadata": {},
     "output_type": "execute_result"
    },
    {
     "data": {
      "text/plain": [
       "- : unit = ()\n"
      ]
     },
     "execution_count": 29,
     "metadata": {},
     "output_type": "execute_result"
    },
    {
     "data": {
      "text/plain": [
       "- : unit = ()\n"
      ]
     },
     "execution_count": 29,
     "metadata": {},
     "output_type": "execute_result"
    },
    {
     "data": {
      "text/plain": [
       "val inclusion : 'a multiensemble -> 'a multiensemble -> bool = <fun>\n"
      ]
     },
     "execution_count": 29,
     "metadata": {},
     "output_type": "execute_result"
    },
    {
     "data": {
      "text/plain": [
       "- : unit = ()\n"
      ]
     },
     "execution_count": 29,
     "metadata": {},
     "output_type": "execute_result"
    },
    {
     "data": {
      "text/plain": [
       "- : unit = ()\n"
      ]
     },
     "execution_count": 29,
     "metadata": {},
     "output_type": "execute_result"
    }
   ],
   "source": [
    "let appartenance (melt: 'a multielement) (mens: 'a multiensemble):bool=\n",
    "    let (a,b)=melt in b<= occurence a mens;;\n",
    " \n",
    "assert(appartenance ('c',1) multiEnsChar=true);;\n",
    "assert(appartenance (\"agtrhaa\",1) multiEnsStr=false);;\n",
    "\n",
    "let inclusion (mens1: 'a multiensemble) (mens2: 'a multiensemble): bool=\n",
    "List.fold_left (fun acc e -> acc && appartenance e mens2) true mens1;;\n",
    "\n",
    "assert(inclusion [('u',1)] [('u',2)]=true);;\n",
    "assert(inclusion [('u',2)] [('u',1)]=false);;\n",
    " "
   ]
  },
  {
   "cell_type": "code",
   "execution_count": 30,
   "metadata": {
    "vscode": {
     "languageId": "ocaml"
    }
   },
   "outputs": [
    {
     "data": {
      "text/plain": [
       "val ajoute : 'a multielement -> 'a multiensemble -> 'a multiensemble = <fun>\n"
      ]
     },
     "execution_count": 30,
     "metadata": {},
     "output_type": "execute_result"
    },
    {
     "data": {
      "text/plain": [
       "- : unit = ()\n"
      ]
     },
     "execution_count": 30,
     "metadata": {},
     "output_type": "execute_result"
    },
    {
     "data": {
      "text/plain": [
       "- : unit = ()\n"
      ]
     },
     "execution_count": 30,
     "metadata": {},
     "output_type": "execute_result"
    },
    {
     "data": {
      "text/plain": [
       "- : unit = ()\n"
      ]
     },
     "execution_count": 30,
     "metadata": {},
     "output_type": "execute_result"
    },
    {
     "data": {
      "text/plain": [
       "- : unit = ()\n"
      ]
     },
     "execution_count": 30,
     "metadata": {},
     "output_type": "execute_result"
    }
   ],
   "source": [
    "let ajoute (melt: 'a multielement) (mens: 'a multiensemble):'a multiensemble=\n",
    "let (a,b)=melt in if (List.exists(fun x->let c,d=x in c=a) mens) then\n",
    "(List.fold_left (fun acc x -> let (a,b)=melt and (c,d)=x in if a=c then acc@[(a,b+d)] else acc@[x]) [] mens)\n",
    "else melt::mens;;\n",
    "\n",
    "assert(ajoute ('c',1) multiEnsChar = [('c', 3); ('s', 3); ('m', 2)]);;\n",
    "assert(ajoute ('t',1) multiEnsChar =[('t', 1); ('c', 2); ('s', 3); ('m', 2)]);;\n",
    "assert(ajoute (\"ccc\",1) multiEnsStr = [(\"aaa\", 2); (\"bbb\", 3); (\"ccc\", 3); (\"ddd\", 2); (\"eee\", 2)]);;\n",
    "assert(ajoute (\"ttt\",1) multiEnsStr = [(\"ttt\", 1); (\"aaa\", 2); (\"bbb\", 3); (\"ccc\", 2); (\"ddd\", 2); (\"eee\", 2)]);;"
   ]
  },
  {
   "cell_type": "code",
   "execution_count": 31,
   "metadata": {
    "vscode": {
     "languageId": "ocaml"
    }
   },
   "outputs": [
    {
     "data": {
      "text/plain": [
       "val appartenanceN : 'a multielement -> 'a multiensemble -> bool = <fun>\n"
      ]
     },
     "execution_count": 31,
     "metadata": {},
     "output_type": "execute_result"
    },
    {
     "data": {
      "text/plain": [
       "val supprime : 'a multielement -> 'a multiensemble -> 'a multiensemble =\n",
       "  <fun>\n"
      ]
     },
     "execution_count": 31,
     "metadata": {},
     "output_type": "execute_result"
    },
    {
     "data": {
      "text/plain": [
       "- : unit = ()\n"
      ]
     },
     "execution_count": 31,
     "metadata": {},
     "output_type": "execute_result"
    },
    {
     "data": {
      "text/plain": [
       "- : unit = ()\n"
      ]
     },
     "execution_count": 31,
     "metadata": {},
     "output_type": "execute_result"
    },
    {
     "data": {
      "text/plain": [
       "- : unit = ()\n"
      ]
     },
     "execution_count": 31,
     "metadata": {},
     "output_type": "execute_result"
    },
    {
     "data": {
      "text/plain": [
       "- : unit = ()\n"
      ]
     },
     "execution_count": 31,
     "metadata": {},
     "output_type": "execute_result"
    }
   ],
   "source": [
    "(*We redefined the function appartenance, so that it returns true only when \n",
    "the multiplicity of the element is smaller then the occurence in the multiensemble.\n",
    "We use this function to define the function supprime. This allows us to filter out \n",
    "the couple when the occurence of the element is equal to zero.*)\n",
    "let appartenanceN (melt: 'a multielement) (mens: 'a multiensemble):bool=\n",
    "    let (a,b)=melt in b<occurence a mens;;\n",
    "  \n",
    "let supprime (melt: 'a multielement) (mens: 'a multiensemble):'a multiensemble=\n",
    "let (a,b)=melt in if (appartenanceN melt mens) then \n",
    " (List.fold_left (fun acc x -> let (c,d)=x in if a=c then acc@[(a,d-b)] else acc@[x]) [] mens)\n",
    "else List.filter (fun x-> let (c,d)=x in (a=c)=false) mens;;\n",
    "\n",
    "assert(supprime ('c',1) multiEnsChar = [('c', 1); ('s', 3); ('m', 2)]);;\n",
    "assert(supprime ('t',1) multiEnsChar = [('c', 2); ('s', 3); ('m', 2)]);;\n",
    "assert(supprime (\"ccc\",1) multiEnsStr = [(\"aaa\", 2); (\"bbb\", 3); (\"ccc\", 1); (\"ddd\", 2); (\"eee\", 2)]);;\n",
    "assert(supprime (\"bbb\",3) multiEnsStr = [(\"aaa\", 2); (\"ccc\", 2); (\"ddd\", 2); (\"eee\", 2)]);;"
   ]
  },
  {
   "cell_type": "code",
   "execution_count": 32,
   "metadata": {
    "vscode": {
     "languageId": "ocaml"
    }
   },
   "outputs": [
    {
     "data": {
      "text/plain": [
       "val egaux : 'a multiensemble -> 'a multiensemble -> bool = <fun>\n"
      ]
     },
     "execution_count": 32,
     "metadata": {},
     "output_type": "execute_result"
    },
    {
     "data": {
      "text/plain": [
       "- : unit = ()\n"
      ]
     },
     "execution_count": 32,
     "metadata": {},
     "output_type": "execute_result"
    },
    {
     "data": {
      "text/plain": [
       "- : unit = ()\n"
      ]
     },
     "execution_count": 32,
     "metadata": {},
     "output_type": "execute_result"
    },
    {
     "data": {
      "text/plain": [
       "- : unit = ()\n"
      ]
     },
     "execution_count": 32,
     "metadata": {},
     "output_type": "execute_result"
    }
   ],
   "source": [
    "let egaux (mens1: 'a multiensemble) (mens2: 'a multiensemble): bool=\n",
    "inclusion mens1 mens2 && inclusion mens2 mens1;;\n",
    "\n",
    "assert(egaux [('a',1);('b',2)] [('a',1);('b',2)]=true);;\n",
    "assert(egaux [('a',1);('b',2)] [('b',2);('a',1)]=true);;\n",
    "assert(egaux [('a',1);('b',2)] [('b',2);('v',1)]=false);;"
   ]
  },
  {
   "cell_type": "code",
   "execution_count": 33,
   "metadata": {
    "vscode": {
     "languageId": "ocaml"
    }
   },
   "outputs": [
    {
     "data": {
      "text/plain": [
       "val intersection : 'a multiensemble -> 'a multiensemble -> 'a multiensemble =\n",
       "  <fun>\n"
      ]
     },
     "execution_count": 33,
     "metadata": {},
     "output_type": "execute_result"
    },
    {
     "data": {
      "text/plain": [
       "- : unit = ()\n"
      ]
     },
     "execution_count": 33,
     "metadata": {},
     "output_type": "execute_result"
    },
    {
     "data": {
      "text/plain": [
       "- : unit = ()\n"
      ]
     },
     "execution_count": 33,
     "metadata": {},
     "output_type": "execute_result"
    }
   ],
   "source": [
    "let intersection (mens1: 'a multiensemble) (mens2: 'a multiensemble):'a multiensemble =\n",
    "let l = (List.filter (fun x-> appartenance x mens2)mens1)@(List.filter (fun x-> appartenance x mens1)mens2) in\n",
    "List.fold_left (fun acc e -> if appartenance e acc then acc else e::acc) [] l;; \n",
    "\n",
    "assert(intersection [('m',3);('u',1)][('m',1);('a',1)]=[('m', 1)]);;\n",
    "assert(intersection [('a',2);('m',1);('u',1)][('m',1);('a',1);('u',3)] =[('a', 1); ('u', 1); ('m', 1)]);;"
   ]
  },
  {
   "cell_type": "code",
   "execution_count": 34,
   "metadata": {
    "vscode": {
     "languageId": "ocaml"
    }
   },
   "outputs": [
    {
     "data": {
      "text/plain": [
       "val union : 'a multiensemble -> 'a multiensemble -> 'a multiensemble = <fun>\n"
      ]
     },
     "execution_count": 34,
     "metadata": {},
     "output_type": "execute_result"
    },
    {
     "data": {
      "text/plain": [
       "- : unit = ()\n"
      ]
     },
     "execution_count": 34,
     "metadata": {},
     "output_type": "execute_result"
    },
    {
     "data": {
      "text/plain": [
       "- : unit = ()\n"
      ]
     },
     "execution_count": 34,
     "metadata": {},
     "output_type": "execute_result"
    }
   ],
   "source": [
    "let union (mens1: 'a multiensemble) (mens2: 'a multiensemble):'a multiensemble =\n",
    " List.filter (fun x->appartenance x (intersection mens1 mens2)<>true) mens1\n",
    " @List.filter (fun x->appartenance x (intersection mens1 mens2)<>true) mens2;;\n",
    " \n",
    "assert(union [('m',3);('u',1)][('m',1);('a',1)]=[('m', 3); ('u', 1); ('a', 1)]);;\n",
    "assert(union [('m',3);('u',1);('r',1)] [('m',1);('a',1);('r',3)]=[('m', 3); ('u', 1); ('a', 1); ('r', 3)]);;\n"
   ]
  },
  {
   "cell_type": "code",
   "execution_count": 35,
   "metadata": {
    "vscode": {
     "languageId": "ocaml"
    }
   },
   "outputs": [
    {
     "data": {
      "text/plain": [
       "val dif : 'a multiensemble -> 'a multiensemble -> 'a multiensemble = <fun>\n"
      ]
     },
     "execution_count": 35,
     "metadata": {},
     "output_type": "execute_result"
    },
    {
     "data": {
      "text/plain": [
       "- : unit = ()\n"
      ]
     },
     "execution_count": 35,
     "metadata": {},
     "output_type": "execute_result"
    },
    {
     "data": {
      "text/plain": [
       "- : unit = ()\n"
      ]
     },
     "execution_count": 35,
     "metadata": {},
     "output_type": "execute_result"
    }
   ],
   "source": [
    "let dif (mens1: 'a multiensemble) (mens2: 'a multiensemble):'a multiensemble=\n",
    "let inter = (intersection mens1 mens2) in\n",
    "List.fold_left (fun acc x-> supprime x acc ) mens1 inter;;\n",
    "\n",
    "assert(dif [('m',3);('u',1)][('m',1);('a',1)]=[('m', 2); ('u', 1)]);;\n",
    "assert(dif [('a',4);('u',1);('m',3)][('m',2);('a',1);('b',1)]=[('a', 3); ('u', 1); ('m', 1)]);;"
   ]
  },
  {
   "cell_type": "code",
   "execution_count": 36,
   "metadata": {
    "vscode": {
     "languageId": "ocaml"
    }
   },
   "outputs": [
    {
     "data": {
      "text/plain": [
       "val difsym : 'a multiensemble -> 'a multiensemble -> 'a multiensemble = <fun>\n"
      ]
     },
     "execution_count": 36,
     "metadata": {},
     "output_type": "execute_result"
    },
    {
     "data": {
      "text/plain": [
       "- : unit = ()\n"
      ]
     },
     "execution_count": 36,
     "metadata": {},
     "output_type": "execute_result"
    },
    {
     "data": {
      "text/plain": [
       "- : unit = ()\n"
      ]
     },
     "execution_count": 36,
     "metadata": {},
     "output_type": "execute_result"
    }
   ],
   "source": [
    "let difsym (mens1: 'a multiensemble) (mens2: 'a multiensemble):'a multiensemble=\n",
    "(dif mens1 mens2)@(dif mens2 mens1);;\n",
    "assert(difsym [('m',3);('u',1)][('m',1);('a',1)]=[('m', 2); ('u', 1); ('a', 1)]);;\n",
    "assert(difsym [('a',4);('u',1);('m',3)][('m',2);('a',1);('b',1)]= [('a', 3); ('u', 1); ('m', 1); ('b', 1)]);;"
   ]
  },
  {
   "cell_type": "markdown",
   "metadata": {},
   "source": [
    "##  5 Contrepet\n",
    "### Question 6"
   ]
  },
  {
   "cell_type": "code",
   "execution_count": 37,
   "metadata": {
    "vscode": {
     "languageId": "ocaml"
    }
   },
   "outputs": [
    {
     "data": {
      "text/plain": [
       "type 'a mot = 'a list\n"
      ]
     },
     "execution_count": 37,
     "metadata": {},
     "output_type": "execute_result"
    },
    {
     "data": {
      "text/plain": [
       "type 'a phrase = 'a mot list\n"
      ]
     },
     "execution_count": 37,
     "metadata": {},
     "output_type": "execute_result"
    }
   ],
   "source": [
    "type 'a mot = 'a list;;\n",
    "type 'a phrase = 'a mot list;;"
   ]
  },
  {
   "cell_type": "markdown",
   "metadata": {},
   "source": [
    "### Question 7"
   ]
  },
  {
   "cell_type": "code",
   "execution_count": 38,
   "metadata": {
    "vscode": {
     "languageId": "ocaml"
    }
   },
   "outputs": [
    {
     "data": {
      "text/plain": [
       "val chaineVmot : string -> char list = <fun>\n"
      ]
     },
     "execution_count": 38,
     "metadata": {},
     "output_type": "execute_result"
    },
    {
     "data": {
      "text/plain": [
       "val cVm : string -> char list = <fun>\n"
      ]
     },
     "execution_count": 38,
     "metadata": {},
     "output_type": "execute_result"
    },
    {
     "data": {
      "text/plain": [
       "- : char list = ['a'; 'l'; 'g'; 'o'; 'r'; 'i'; 't'; 'h'; 'm'; 'e']\n"
      ]
     },
     "execution_count": 38,
     "metadata": {},
     "output_type": "execute_result"
    },
    {
     "data": {
      "text/plain": [
       "val q : string = \"quelle\"\n"
      ]
     },
     "execution_count": 38,
     "metadata": {},
     "output_type": "execute_result"
    },
    {
     "data": {
      "text/plain": [
       "val m : string = \"ministre\"\n"
      ]
     },
     "execution_count": 38,
     "metadata": {},
     "output_type": "execute_result"
    },
    {
     "data": {
      "text/plain": [
       "val s : string = \"seche\"\n"
      ]
     },
     "execution_count": 38,
     "metadata": {},
     "output_type": "execute_result"
    },
    {
     "data": {
      "text/plain": [
       "val sm : string = \"sinistre\"\n"
      ]
     },
     "execution_count": 38,
     "metadata": {},
     "output_type": "execute_result"
    },
    {
     "data": {
      "text/plain": [
       "val ms : string = \"meche\"\n"
      ]
     },
     "execution_count": 38,
     "metadata": {},
     "output_type": "execute_result"
    },
    {
     "data": {
      "text/plain": [
       "val cstQSM : char list list =\n",
       "  [['q'; 'u'; 'e'; 'l'; 'l'; 'e']; ['m'; 'i'; 'n'; 'i'; 's'; 't'; 'r'; 'e'];\n",
       "   ['s'; 'e'; 'c'; 'h'; 'e']]\n"
      ]
     },
     "execution_count": 38,
     "metadata": {},
     "output_type": "execute_result"
    },
    {
     "data": {
      "text/plain": [
       "val cstQMS : char list list =\n",
       "  [['q'; 'u'; 'e'; 'l'; 'l'; 'e']; ['s'; 'i'; 'n'; 'i'; 's'; 't'; 'r'; 'e'];\n",
       "   ['m'; 'e'; 'c'; 'h'; 'e']]\n"
      ]
     },
     "execution_count": 38,
     "metadata": {},
     "output_type": "execute_result"
    }
   ],
   "source": [
    "let chaineVmot (ch:string):char list=List.of_seq (String.to_seq ch);;\n",
    "let cVm :string -> char list = chaineVmot;;\n",
    "cVm \"algorithme\";;\n",
    "\n",
    "let q = \"quelle\";;\n",
    "let m = \"ministre\";;\n",
    "let s = \"seche\";;\n",
    "let sm = \"sinistre\";;\n",
    "let ms = \"meche\";;\n",
    "\n",
    "let cstQSM = [cVm q] @ [cVm m] @[ cVm s];;\n",
    "let cstQMS = [cVm q] @ [cVm sm] @ [cVm ms];;\n",
    "\n"
   ]
  },
  {
   "cell_type": "code",
   "execution_count": 39,
   "metadata": {
    "vscode": {
     "languageId": "ocaml"
    }
   },
   "outputs": [
    {
     "data": {
      "text/plain": [
       "val phraseVseqstring : char phrase -> string list = <fun>\n"
      ]
     },
     "execution_count": 39,
     "metadata": {},
     "output_type": "execute_result"
    },
    {
     "data": {
      "text/plain": [
       "val pVs : char phrase -> string list = <fun>\n"
      ]
     },
     "execution_count": 39,
     "metadata": {},
     "output_type": "execute_result"
    },
    {
     "data": {
      "text/plain": [
       "- : string list = [\"quelle\"; \"ministre\"; \"seche\"]\n"
      ]
     },
     "execution_count": 39,
     "metadata": {},
     "output_type": "execute_result"
    }
   ],
   "source": [
    "let phraseVseqstring : 'a phrase -> string list = List.map (fun m -> String.of_seq (List.to_seq m));;\n",
    "let pVs : 'a phrase -> string list = phraseVseqstring;;\n",
    "\n",
    "phraseVseqstring cstQSM;;\n"
   ]
  },
  {
   "cell_type": "markdown",
   "metadata": {},
   "source": [
    "## 5.2 Dictionary\n",
    "### Question 8, 9, 10"
   ]
  },
  {
   "cell_type": "code",
   "execution_count": 40,
   "metadata": {
    "vscode": {
     "languageId": "ocaml"
    }
   },
   "outputs": [
    {
     "data": {
      "text/plain": [
       "type 'a dictionnaire = 'a list\n"
      ]
     },
     "execution_count": 40,
     "metadata": {},
     "output_type": "execute_result"
    },
    {
     "data": {
      "text/plain": [
       "val bbj : string = \"belly\"\n"
      ]
     },
     "execution_count": 40,
     "metadata": {},
     "output_type": "execute_result"
    },
    {
     "data": {
      "text/plain": [
       "val jbj : string = \"jeans\"\n"
      ]
     },
     "execution_count": 40,
     "metadata": {},
     "output_type": "execute_result"
    },
    {
     "data": {
      "text/plain": [
       "val jjb : string = \"jelly\"\n"
      ]
     },
     "execution_count": 40,
     "metadata": {},
     "output_type": "execute_result"
    },
    {
     "data": {
      "text/plain": [
       "val bjb : string = \"beans\"\n"
      ]
     },
     "execution_count": 40,
     "metadata": {},
     "output_type": "execute_result"
    },
    {
     "data": {
      "text/plain": [
       "val cst_DICO : string dictionnaire =\n",
       "  [\"seche\"; \"ministre\"; \"sinistre\"; \"meche\"; \"belly\"; \"jeans\"; \"jelly\";\n",
       "   \"beans\"; \"plaster\"; \"master\"; \"plan\"; \"man\"; \"rame\"; \"mare\"; \"tare\"]\n"
      ]
     },
     "execution_count": 40,
     "metadata": {},
     "output_type": "execute_result"
    }
   ],
   "source": [
    "(*Dictionnaire*)\n",
    "type 'a dictionnaire = 'a list;;\n",
    "let bbj =\"belly\";;\n",
    "let jbj =\"jeans\";;\n",
    "let jjb = \"jelly\";;\n",
    "let bjb =\"beans\";;\n",
    "let cst_DICO:'a dictionnaire = [s;m;sm;ms;bbj;jbj;jjb;bjb;\"plaster\";\"master\";\"plan\";\"man\";\"rame\";\"mare\";\"tare\"];;"
   ]
  },
  {
   "cell_type": "markdown",
   "metadata": {},
   "source": [
    "### Question 11"
   ]
  },
  {
   "cell_type": "code",
   "execution_count": 41,
   "metadata": {
    "vscode": {
     "languageId": "ocaml"
    }
   },
   "outputs": [
    {
     "data": {
      "text/plain": [
       "val suprimmePrefixeCommun : 'a mot -> 'a mot -> 'a mot * 'a mot = <fun>\n"
      ]
     },
     "execution_count": 41,
     "metadata": {},
     "output_type": "execute_result"
    },
    {
     "data": {
      "text/plain": [
       "- : unit = ()\n"
      ]
     },
     "execution_count": 41,
     "metadata": {},
     "output_type": "execute_result"
    },
    {
     "data": {
      "text/plain": [
       "val suffixeEgaux : 'a mot -> 'a mot -> bool = <fun>\n"
      ]
     },
     "execution_count": 41,
     "metadata": {},
     "output_type": "execute_result"
    },
    {
     "data": {
      "text/plain": [
       "- : unit = ()\n"
      ]
     },
     "execution_count": 41,
     "metadata": {},
     "output_type": "execute_result"
    },
    {
     "data": {
      "text/plain": [
       "- : unit = ()\n"
      ]
     },
     "execution_count": 41,
     "metadata": {},
     "output_type": "execute_result"
    },
    {
     "data": {
      "text/plain": [
       "- : unit = ()\n"
      ]
     },
     "execution_count": 41,
     "metadata": {},
     "output_type": "execute_result"
    }
   ],
   "source": [
    "let rec suprimmePrefixeCommun (m1: 'a mot) (m2:'a mot):'a mot* 'a mot=\n",
    "    match m1,m2 with\n",
    "    | [],[] -> [],[]\n",
    "    | _::_, [] |[], _::_ -> m1,m2\n",
    "    | hd1::tl1 , hd2::tl2 -> if hd1=hd2 then suprimmePrefixeCommun tl1 tl2 else m1 ,m2;; \n",
    "    \n",
    "assert(suprimmePrefixeCommun ['s';'s'; 'i'; 'n'; 'i'; 's'; 't'; 'r'; 'e'] ['s'; 'm';'i'; 'n'; 'i'; 's'; 't'; 'r'; 'e']=\n",
    "(['s'; 'i'; 'n'; 'i'; 's'; 't'; 'r'; 'e'],['m'; 'i'; 'n'; 'i'; 's'; 't'; 'r'; 'e']));;\n",
    "\n",
    " \n",
    "let suffixeEgaux (m1: 'a mot) (m2:'a mot) :bool =\n",
    "     (List.hd m1<>List.hd m2 && List.tl m1 =List.tl m2) || m1 =m2 ;;\n",
    "(*We decide that when the words are the same the function returns true.*)  \n",
    "assert(suffixeEgaux ['s'; 'i'; 'n'; 'i'; 's'; 't'; 'r'; 'e'] ['m';'i'; 'n'; 'i'; 's'; 't'; 'r'; 'e'] = true);;\n",
    "assert(suffixeEgaux ['s'; 'i'; 'e'; 'i'; 's'; 't'; 'r'; 'e'] ['m';'i'; 'n'; 'i'; 's'; 't'; 'r'; 'e'] = false);;\n",
    "assert(suffixeEgaux ['s'; 'i'; 'n'; 'i'; 's'; 't'; 'r'; 'e'] ['s';'i'; 'n'; 'i'; 's'; 't'; 'r'; 'e'] = true);;"
   ]
  },
  {
   "cell_type": "markdown",
   "metadata": {},
   "source": [
    "### Question 12"
   ]
  },
  {
   "cell_type": "code",
   "execution_count": 42,
   "metadata": {
    "vscode": {
     "languageId": "ocaml"
    }
   },
   "outputs": [
    {
     "data": {
      "text/plain": [
       "val motsSontContrepret : 'a mot * 'a mot -> 'a mot * 'a mot -> bool = <fun>\n"
      ]
     },
     "execution_count": 42,
     "metadata": {},
     "output_type": "execute_result"
    },
    {
     "data": {
      "text/plain": [
       "- : unit = ()\n"
      ]
     },
     "execution_count": 42,
     "metadata": {},
     "output_type": "execute_result"
    },
    {
     "data": {
      "text/plain": [
       "- : unit = ()\n"
      ]
     },
     "execution_count": 42,
     "metadata": {},
     "output_type": "execute_result"
    }
   ],
   "source": [
    "let motsSontContrepret ((m1,m2):'a mot*'a mot) ((mprime1,mprime2):'a mot*'a mot):bool=\n",
    "    suffixeEgaux m1 mprime1 && suffixeEgaux m2 mprime2;;\n",
    "    \n",
    "assert(motsSontContrepret (['m';'i';'n'], ['s';'e';'c';'h';'e']) (['s';'i';'n'], ['m';'e';'c';'h';'e'])=true);;\n",
    "assert(motsSontContrepret (['m';'r';'n'], ['s';'e';'c';'h';'e']) (['s';'i';'n'], ['m';'e';'c';'h';'e'])=false);;"
   ]
  },
  {
   "cell_type": "markdown",
   "metadata": {},
   "source": [
    "### Question 13"
   ]
  },
  {
   "cell_type": "code",
   "execution_count": 43,
   "metadata": {
    "vscode": {
     "languageId": "ocaml"
    }
   },
   "outputs": [
    {
     "data": {
      "text/plain": [
       "val deleteCommun : 'a phrase -> 'a phrase -> 'a phrase * 'a phrase = <fun>\n"
      ]
     },
     "execution_count": 43,
     "metadata": {},
     "output_type": "execute_result"
    },
    {
     "name": "stderr",
     "output_type": "stream",
     "text": [
      "File \"[43]\", lines 26-27, characters 104-61:\n",
      "26 | ........................................................................................................let \n",
      "27 |         [a;b],[c;d] = l1,l2 in motsSontContrepret (a,b) (c,d)..\n",
      "Warning 8: this pattern-matching is not exhaustive.\n",
      "Here is an example of a case that is not matched:\n",
      "((_::_::[], _::_::_::_)|(_::_::[], _::[])|(_::_::[], [])|(_::_::_::_, _)|\n",
      "(_::[], _)|([], _))\n"
     ]
    },
    {
     "data": {
      "text/plain": [
       "val phrasesSontContrepret : 'a phrase -> 'a phrase -> bool = <fun>\n"
      ]
     },
     "execution_count": 43,
     "metadata": {},
     "output_type": "execute_result"
    },
    {
     "data": {
      "text/plain": [
       "- : unit = ()\n"
      ]
     },
     "execution_count": 43,
     "metadata": {},
     "output_type": "execute_result"
    },
    {
     "data": {
      "text/plain": [
       "- : 'a phrase -> 'a phrase -> bool = <fun>\n"
      ]
     },
     "execution_count": 43,
     "metadata": {},
     "output_type": "execute_result"
    },
    {
     "data": {
      "text/plain": [
       "val newP1 : char list list =\n",
       "  [['q'; 'u'; 'e'; 'l'; 'l'; 'e']; ['m'; 'i'; 'n'; 'i'; 's'; 't'; 'r'; 'e'];\n",
       "   ['s'; 'e'; 'c'; 'h'; 'e']; ['h'; 'i']]\n"
      ]
     },
     "execution_count": 43,
     "metadata": {},
     "output_type": "execute_result"
    },
    {
     "data": {
      "text/plain": [
       "val newP2 : char list list =\n",
       "  [['q'; 'u'; 'e'; 'l'; 'l'; 'e']; ['s'; 'i'; 'n'; 'i'; 's'; 't'; 'r'; 'e'];\n",
       "   ['m'; 'e'; 'c'; 'h'; 'e']; ['s'; 'a'; 'y']; ['h'; 'i']]\n"
      ]
     },
     "execution_count": 43,
     "metadata": {},
     "output_type": "execute_result"
    },
    {
     "data": {
      "text/plain": [
       "- : unit = ()\n"
      ]
     },
     "execution_count": 43,
     "metadata": {},
     "output_type": "execute_result"
    },
    {
     "data": {
      "text/plain": [
       "val newP3 : char list list =\n",
       "  [['q'; 'u'; 'e'; 'l'; 'l'; 'e']; ['m'; 'i'; 'n'; 'i'; 's'; 't'; 'r'; 'e'];\n",
       "   ['b'; 'e'; 'a'; 'u']]\n"
      ]
     },
     "execution_count": 43,
     "metadata": {},
     "output_type": "execute_result"
    },
    {
     "data": {
      "text/plain": [
       "- : unit = ()\n"
      ]
     },
     "execution_count": 43,
     "metadata": {},
     "output_type": "execute_result"
    }
   ],
   "source": [
    "(*We define this function to be used in phrasesSontContrepret.*)\n",
    "(* \n",
    "|SPECIFICATION\n",
    "| deleteCommun\n",
    "| -Profil : 'a phrase -> 'a phrase -> 'a phrase * 'a phrase\n",
    "| -Semantics: deleteCommun takes two phrases as an input and returns the phrases without the words that are the same in both phrases.\n",
    "| -Example : (a)deleteCommun [['q'; 'u']; ['m'; 'i'; 'n']; ['s'; 'e']] [['q'; 'u']; ['s'; 'i'; 'n'];['m'; 'e']]\n",
    "| -> ([['m'; 'i'; 'n']; ['s'; 'e']], [['s'; 'i'; 'n']; ['m'; 'e']]\n",
    "|            (b) [['q'; 'u'];['i'; 's']; ['m'; 'i'; 'n']; ['s'; 'e'];['i'; 's']] [['q'; 'u'];['i'; 's']; ['s'; 'i'; 'n'];['m'; 'e'];['i'; 's']]\n",
    "| -> ([['m'; 'i'; 'n']; ['s'; 'e']], [['s'; 'i'; 'n']; ['m'; 'e']]\n",
    "|REALISATION\n",
    "| -Algorithm\n",
    "| -Implementation: *)\n",
    "let rec deleteCommun (phr1:'a phrase) (phr2:'a phrase) =  match phr1, phr2 with \n",
    "    | ([], [])-> [],[]\n",
    "    | (_::_, [])|([], _::_) -> phr1,phr2\n",
    "    | hd1::tl1, hd2::tl2 -> if hd1= hd2 then let a,b = deleteCommun tl1 tl2 in a,b\n",
    "    else let a,b = deleteCommun tl1 tl2 in hd1::a,hd2::b;;  \n",
    "    \n",
    "(*We have defined the functions following the guidelines given in the instruction. Hence despite getting \n",
    "a warning for the function 𝑝ℎ𝑟𝑎𝑠𝑒𝑠𝑆𝑜𝑛𝑡𝐶𝑜𝑛𝑡𝑟𝑒𝑝𝑒,  we assume that we have answered to the questions as \n",
    "we have as constraints that a phrase should contain only 2 words that are supposed to be \"contrepret\". *)\n",
    "\n",
    "\n",
    "let phrasesSontContrepret (phr1:'a phrase) (phr2:'a phrase) :bool= \n",
    "        let l1,l2 = deleteCommun phr1 phr2 in if (cardinale l1) <> 2 || cardinale l2<>2 then false else let \n",
    "        [a;b],[c;d] = l1,l2 in motsSontContrepret (a,b) (c,d);;\n",
    "assert(phrasesSontContrepret cstQSM cstQMS = true);;\n",
    "phrasesSontContrepret \n",
    "let newP1= cstQSM@[['h';'i']];;\n",
    "let newP2= cstQMS@[['s';'a';'y']]@[['h';'i']];;\n",
    "assert(phrasesSontContrepret newP1 newP2=false);;\n",
    "let newP3= [cVm q] @ [cVm m]@[['b';'e';'a';'u']];;\n",
    "assert(phrasesSontContrepret cstQMS newP3=false);;\n"
   ]
  },
  {
   "cell_type": "markdown",
   "metadata": {},
   "source": [
    "### Question 14"
   ]
  },
  {
   "cell_type": "code",
   "execution_count": 80,
   "metadata": {
    "vscode": {
     "languageId": "ocaml"
    }
   },
   "outputs": [
    {
     "data": {
      "text/plain": [
       "type 'a ensemble = 'a mot * char * 'a mot\n"
      ]
     },
     "execution_count": 80,
     "metadata": {},
     "output_type": "execute_result"
    },
    {
     "data": {
      "text/plain": [
       "val decomLast2 : char list -> (char * char mot) list = <fun>\n"
      ]
     },
     "execution_count": 80,
     "metadata": {},
     "output_type": "execute_result"
    },
    {
     "data": {
      "text/plain": [
       "- : (char * char mot) list = [('s', ['i'; 'n']); ('i', ['n']); ('n', [])]\n"
      ]
     },
     "execution_count": 80,
     "metadata": {},
     "output_type": "execute_result"
    }
   ],
   "source": [
    "type 'a ensemble= 'a mot*char*'a mot;;\n",
    "(* let rec decompose (m:'a mot): 'a ensemble list= \n",
    "    match m with \n",
    "        | []-> []\n",
    "        | x::xs->let hd::tl=xs in [([x],hd,tl)]@decompose xs;;\n",
    "         *)\n",
    "        \n",
    "let rec decomLast2 (m: char list): ('a * 'a mot) list = \n",
    "    match m with\n",
    "        | [] -> []\n",
    "        | x::xs -> (x,xs)::(decomLast2 xs) ;;\n",
    "\n",
    "(* let decompFirst (m:char list): ('a mot list)=\n",
    "List.fold_left (fun acc x -> (ajout (acc@[x]) [acc])) [[]] m;;     *)\n",
    " \n",
    "decomLast2 ['s';'i';'n'];;\n",
    "\n",
    "\n",
    "(* [([],'s', ['i'; 'n']); (['s'],'i', ['n']); (['s'; 'i'],'n', [])] *)"
   ]
  },
  {
   "cell_type": "code",
   "execution_count": 66,
   "metadata": {
    "vscode": {
     "languageId": "ocaml"
    }
   },
   "outputs": [
    {
     "data": {
      "text/plain": [
       "- : char list = ['s'; 'i'; 'n']\n"
      ]
     },
     "execution_count": 66,
     "metadata": {},
     "output_type": "execute_result"
    }
   ],
   "source": [
    "List.fold_left (fun acc x -> acc@[x]) [] ['s';'i';'n'];;"
   ]
  },
  {
   "cell_type": "markdown",
   "metadata": {},
   "source": [
    "### Question 15"
   ]
  },
  {
   "cell_type": "code",
   "execution_count": 46,
   "metadata": {
    "vscode": {
     "languageId": "ocaml"
    }
   },
   "outputs": [
    {
     "data": {
      "text/plain": [
       "val echange : char ensemble -> char ensemble -> char mot * char mot = <fun>\n"
      ]
     },
     "execution_count": 46,
     "metadata": {},
     "output_type": "execute_result"
    },
    {
     "data": {
      "text/plain": [
       "- : char mot * char mot = (['s'; 's'; 'n'], ['i'; 'i'; 'n'])\n"
      ]
     },
     "execution_count": 46,
     "metadata": {},
     "output_type": "execute_result"
    }
   ],
   "source": [
    "let echange (e1:'a ensemble) (e2:'a ensemble):('a mot*'a mot) = \n",
    "    let p1,l1,s1=e1 and p2,l2,s2=e2 in (p1@[l2])@s1,(p2@[l1])@s2;;\n",
    "    \n",
    "echange (['s'],'i',['n']) (([],'s',['i';'n'])) ;;"
   ]
  },
  {
   "cell_type": "markdown",
   "metadata": {},
   "source": [
    "### Question 16"
   ]
  },
  {
   "cell_type": "code",
   "execution_count": 49,
   "metadata": {
    "vscode": {
     "languageId": "ocaml"
    }
   },
   "outputs": [
    {
     "data": {
      "text/plain": [
       "val contrepeteries : string dictionnaire -> char list list -> string list =\n",
       "  <fun>\n"
      ]
     },
     "execution_count": 49,
     "metadata": {},
     "output_type": "execute_result"
    },
    {
     "data": {
      "text/plain": [
       "- : string list = [\"sinistre\"; \"meche\"]\n"
      ]
     },
     "execution_count": 49,
     "metadata": {},
     "output_type": "execute_result"
    }
   ],
   "source": [
    "let contrepeteries (d:'a dictionnaire) (p:char list list): string list=\n",
    "    List.filter (fun x -> List.exists (fun a->a=x) d) (pVs p);;\n",
    "    \n",
    "contrepeteries cst_DICO newP2;;"
   ]
  }
 ],
 "metadata": {
  "kernelspec": {
   "display_name": "OCaml default",
   "language": "OCaml",
   "name": "ocaml-jupyter"
  },
  "language_info": {
   "codemirror_mode": "text/x-ocaml",
   "file_extension": ".ml",
   "mimetype": "text/x-ocaml",
   "name": "OCaml",
   "nbconverter_exporter": null,
   "pygments_lexer": "OCaml",
   "version": "4.11.1"
  }
 },
 "nbformat": 4,
 "nbformat_minor": 2
}
